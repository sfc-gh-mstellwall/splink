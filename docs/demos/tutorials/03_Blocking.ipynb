{
 "cells": [
  {
   "attachments": {},
   "cell_type": "markdown",
   "metadata": {},
   "source": [
    "# Choosing blocking rules to optimise runtime\n",
    "\n",
    "\n",
    "To link records, we need to compare pairs of records, and decide which pairs are matches and non matches.\n",
    "\n",
    "For most large datasets, it is computationally intractable to compare every row with every other row, since the number of comparisons rises quadratically with the number of records.  \n",
    "\n",
    "Instead we rely on blocking rules, which specify which pairwise comparisons to generate.  For example, we could generate the subset of pairwise comparisons where either first name or surname matches.\n",
    "\n",
    "This is part of a two step process to link data:\n",
    "\n",
    "1.  Use blocking rules to generate candidate pairwise record comparisons\n",
    "\n",
    "2.  Use a probabilistic linkage model to score these candidate pairs, to determine which ones should be linked\n",
    "\n",
    "**Blocking rules are the most important determinant of the performance of your linkage job**.  \n",
    "\n",
    "When deciding on your blocking rules, you're trading off accuracy for performance:\n",
    "\n",
    "- If your rules are too loose, your linkage job may fail.  \n",
    "- If they're too tight, you may miss some valid links. \n",
    "\n",
    "This tutorial clarifies what blocking rules are, and how to choose good rules.\n",
    "\n",
    "\n",
    "## Blocking rules in Splink\n",
    "\n",
    "In Splink, blocking rules are specified as SQL expressions. \n",
    "\n",
    "For example, to generate the subset of record comparisons where the first name matches, we can specify the following blocking rule:\n",
    "\n",
    "`l.first_name = r.first_name`\n",
    "\n",
    "Since blocking rules are SQL expressions, they can be arbitrarily complex.  For example, you could create record comparisons where the initial of the first name and the surname match with the following rule:\n",
    "\n",
    "`substr(l.first_name, 1,1) = substr(r.first_name, 1,1) and l.surname = r.surname`\n",
    "\n",
    "As of v3.9.5, Splink also includes built in functions to construct these rules.\n",
    "\n",
    "For example, `substr(l.first_name, 1,1) = substr(r.first_name, 1,1) and l.surname = r.surname` can now be written as:\n",
    "\n",
    "\n",
    "```py\n",
    "from splink.duckdb.blocking_rule_library import block_on\n",
    "sub_fn = \"substr(first_name, 1,1)\"\n",
    "block_on([sub_fn, \"surname\"])\n",
    "```"
   ]
  },
  {
   "attachments": {},
   "cell_type": "markdown",
   "metadata": {},
   "source": [
    "## Devising effective blocking rules \n",
    "\n",
    "\n",
    "The aims of your blocking rules are twofold:\n",
    "1. Eliminate enough non-matching comparison pairs so your record linkage job is small enough to compute\n",
    "2. Eliminate as few truly matching pairs as possible (ideally none)\n",
    "\n",
    "It is usually impossible to find a single blocking rule which achieves both aims, so we recommend using multiple blocking rules.  \n",
    "\n",
    "When we specify multiple blocking rules, Splink will generate all comparison pairs that meet any one of the rules.\n",
    "\n",
    "For example, consider the following blocking rule:\n",
    "\n",
    "`l.first_name = r.first_name and l.dob = r.dob`\n",
    "\n",
    "This rule is likely to be effective in reducing the number of comparison pairs.  It will retain all truly matching pairs, except those with errors or nulls in either the `first_name` or `dob` fields.\n",
    "\n",
    "Now consider a second blocking rule:\n",
    "\n",
    "`l.email and r.email`.\n",
    "\n",
    "This will retain all truly matching pairs, except those with errors or nulls in the `email` column.\n",
    "\n",
    "\n",
    "Individually, these blocking rules are problematic because they exclude true matches where the records contain typos of certain types.  But between them, they might do quite a good job.  \n",
    "\n",
    "For a true match to be eliminated by the use of these two blocking rules, it would have to have an error in _both_  email AND (first name or date of birth).  \n",
    "\n",
    "This is not completely implausible, but it is significantly less likely than if we'd just used a single rule.\n",
    "\n",
    "More generally, we can often specify multiple blocking rules such that it becomes highly implausible that a true match would not meet at least one of these blocking critera.  This is the recommended approach in Splink.  Generally we would recommend between about 3 and 10, though even more is possible.\n",
    "\n",
    "The question then becomes how to choose what to put in this list.\n"
   ]
  },
  {
   "attachments": {},
   "cell_type": "markdown",
   "metadata": {},
   "source": [
    "## Splink tools to help choose your blocking rules\n",
    "\n",
    "Splink contains a number of tools to help you choose effective blocking rules.  Let's try them out, using our small test dataset:"
   ]
  },
  {
   "cell_type": "code",
   "execution_count": 1,
   "metadata": {},
   "outputs": [],
   "source": [
    "from splink.datasets import splink_datasets\n",
    "import altair as alt\n",
    "alt.renderers.enable('html')\n",
    "\n",
    "df = splink_datasets.fake_1000"
   ]
  },
  {
   "attachments": {},
   "cell_type": "markdown",
   "metadata": {},
   "source": [
    "### Counting the number of comparisons created by a single blocking rule\n",
    "\n",
    "On large datasets, some blocking rules imply the creation of trillions of record comparisons, which would cause a linkage job to fail.\n",
    "\n",
    "Before using a blocking rule in a linkage job, it's therefore a good idea to count the number of records it generates to ensure it is not too loose:\n",
    "\n"
   ]
  },
  {
   "cell_type": "code",
   "execution_count": 2,
   "metadata": {},
   "outputs": [
    {
     "name": "stdout",
     "output_type": "stream",
     "text": [
      "Number of comparisons generated by '(SUBSTR(l.\"first_name\", 1, 1) = SUBSTR(r.\"first_name\", 1, 1)) AND (l.\"surname\" = r.\"surname\")': 473\n",
      "Number of comparisons generated by 'l.\"surname\" = r.\"surname\"': 1,638\n",
      "Number of comparisons generated by 'l.\"email\" = r.\"email\"': 682\n",
      "Number of comparisons generated by '(l.\"city\" = r.\"city\") AND (l.\"first_name\" = r.\"first_name\")': 315\n"
     ]
    }
   ],
   "source": [
    "from splink.duckdb.linker import DuckDBLinker\n",
    "from splink.duckdb.blocking_rule_library import block_on\n",
    "settings = {\"link_type\": \"dedupe_only\"}\n",
    "linker = DuckDBLinker(df, settings)\n",
    "\n",
    "blocking_rule_1 = block_on([\"substr(first_name, 1,1)\", \"surname\"])\n",
    "count = linker.count_num_comparisons_from_blocking_rule(blocking_rule_1)\n",
    "print(f\"Number of comparisons generated by '{blocking_rule_1.sql}': {count:,.0f}\")\n",
    "\n",
    "blocking_rule_2 = block_on(\"surname\")\n",
    "count = linker.count_num_comparisons_from_blocking_rule(blocking_rule_2)\n",
    "print(f\"Number of comparisons generated by '{blocking_rule_2.sql}': {count:,.0f}\")\n",
    "\n",
    "blocking_rule_3 = block_on(\"email\")\n",
    "count = linker.count_num_comparisons_from_blocking_rule(blocking_rule_3)\n",
    "print(f\"Number of comparisons generated by '{blocking_rule_3.sql}': {count:,.0f}\")\n",
    "\n",
    "blocking_rule_4 = block_on([\"city\", \"first_name\"])\n",
    "count = linker.count_num_comparisons_from_blocking_rule(blocking_rule_4)\n",
    "print(f\"Number of comparisons generated by '{blocking_rule_4.sql}': {count:,.0f}\")\n"
   ]
  },
  {
   "attachments": {},
   "cell_type": "markdown",
   "metadata": {},
   "source": [
    "The maximum number of comparisons that you can compute will be affected by your choice of SQL backend, and how powerful your computer is.\n",
    "\n",
    "For linkages in DuckDB on a standard laptop, we suggest using blocking rules that create no more than about 20 million comparisons.  For Spark and Athena, try starting with fewer than a a billion comparisons, before scaling up."
   ]
  },
  {
   "attachments": {},
   "cell_type": "markdown",
   "metadata": {},
   "source": [
    "### Counting the number of comparisons created by a list of blocking rules\n",
    "\n",
    "As noted above, it's usually a good idea to use multiple blocking rules.  It's therefore useful to know how many record comparisons will be generated when these rules are applied.\n",
    "\n",
    "Since the same record comparison may be created by several blocking rules, and Splink automatically deduplicates these comparisons, we cannot simply total the number of comparisons generated by each rule individually.  \n",
    "\n",
    "Splink provides a chart that shows the marginal (additional) comparisons generated by each blocking rule, after deduplication:\n"
   ]
  },
  {
   "cell_type": "code",
   "execution_count": 3,
   "metadata": {},
   "outputs": [
    {
     "data": {
      "text/html": [
       "\n",
       "<style>\n",
       "  #altair-viz-4f04e5d92e77433b8935a2a134e689eb.vega-embed {\n",
       "    width: 100%;\n",
       "    display: flex;\n",
       "  }\n",
       "\n",
       "  #altair-viz-4f04e5d92e77433b8935a2a134e689eb.vega-embed details,\n",
       "  #altair-viz-4f04e5d92e77433b8935a2a134e689eb.vega-embed details summary {\n",
       "    position: relative;\n",
       "  }\n",
       "</style>\n",
       "<div id=\"altair-viz-4f04e5d92e77433b8935a2a134e689eb\"></div>\n",
       "<script type=\"text/javascript\">\n",
       "  var VEGA_DEBUG = (typeof VEGA_DEBUG == \"undefined\") ? {} : VEGA_DEBUG;\n",
       "  (function(spec, embedOpt){\n",
       "    let outputDiv = document.currentScript.previousElementSibling;\n",
       "    if (outputDiv.id !== \"altair-viz-4f04e5d92e77433b8935a2a134e689eb\") {\n",
       "      outputDiv = document.getElementById(\"altair-viz-4f04e5d92e77433b8935a2a134e689eb\");\n",
       "    }\n",
       "    const paths = {\n",
       "      \"vega\": \"https://cdn.jsdelivr.net/npm/vega@5?noext\",\n",
       "      \"vega-lib\": \"https://cdn.jsdelivr.net/npm/vega-lib?noext\",\n",
       "      \"vega-lite\": \"https://cdn.jsdelivr.net/npm/vega-lite@5.8.0?noext\",\n",
       "      \"vega-embed\": \"https://cdn.jsdelivr.net/npm/vega-embed@6?noext\",\n",
       "    };\n",
       "\n",
       "    function maybeLoadScript(lib, version) {\n",
       "      var key = `${lib.replace(\"-\", \"\")}_version`;\n",
       "      return (VEGA_DEBUG[key] == version) ?\n",
       "        Promise.resolve(paths[lib]) :\n",
       "        new Promise(function(resolve, reject) {\n",
       "          var s = document.createElement('script');\n",
       "          document.getElementsByTagName(\"head\")[0].appendChild(s);\n",
       "          s.async = true;\n",
       "          s.onload = () => {\n",
       "            VEGA_DEBUG[key] = version;\n",
       "            return resolve(paths[lib]);\n",
       "          };\n",
       "          s.onerror = () => reject(`Error loading script: ${paths[lib]}`);\n",
       "          s.src = paths[lib];\n",
       "        });\n",
       "    }\n",
       "\n",
       "    function showError(err) {\n",
       "      outputDiv.innerHTML = `<div class=\"error\" style=\"color:red;\">${err}</div>`;\n",
       "      throw err;\n",
       "    }\n",
       "\n",
       "    function displayChart(vegaEmbed) {\n",
       "      vegaEmbed(outputDiv, spec, embedOpt)\n",
       "        .catch(err => showError(`Javascript Error: ${err.message}<br>This usually means there's a typo in your chart specification. See the javascript console for the full traceback.`));\n",
       "    }\n",
       "\n",
       "    if(typeof define === \"function\" && define.amd) {\n",
       "      requirejs.config({paths});\n",
       "      require([\"vega-embed\"], displayChart, err => showError(`Error loading script: ${err.message}`));\n",
       "    } else {\n",
       "      maybeLoadScript(\"vega\", \"5\")\n",
       "        .then(() => maybeLoadScript(\"vega-lite\", \"5.8.0\"))\n",
       "        .then(() => maybeLoadScript(\"vega-embed\", \"6\"))\n",
       "        .catch(showError)\n",
       "        .then(() => displayChart(vegaEmbed));\n",
       "    }\n",
       "  })({\"config\": {\"view\": {\"continuousWidth\": 300, \"continuousHeight\": 300}}, \"data\": {\"name\": \"data-b748b89aa6d5868557882ca4eca63426\"}, \"mark\": \"bar\", \"encoding\": {\"color\": {\"field\": \"rule\", \"legend\": null, \"scale\": {\"scheme\": \"category20c\"}}, \"order\": {\"field\": \"cumulative_rows\"}, \"tooltip\": [{\"field\": \"rule\", \"title\": \"SQL Condition\", \"type\": \"nominal\"}, {\"field\": \"row_count\", \"format\": \",\", \"title\": \"Comparisons Generated\", \"type\": \"quantitative\"}, {\"field\": \"cumulative_rows\", \"format\": \",\", \"title\": \"Cumulative Comparisons\", \"type\": \"quantitative\"}, {\"field\": \"cartesian\", \"format\": \",\", \"title\": \"Cartesian Product of Input Data\", \"type\": \"quantitative\"}, {\"field\": \"reduction_ratio\", \"title\": \"Reduction Ratio (cumulative rows/cartesian product)\", \"type\": \"nominal\"}], \"x\": {\"field\": \"start\", \"title\": \"Comparisons Generated by Rule(s)\", \"type\": \"quantitative\"}, \"x2\": {\"field\": \"cumulative_rows\"}, \"y\": {\"field\": \"rule\", \"sort\": [\"-x2\"], \"title\": \"SQL Blocking Rule\"}}, \"height\": {\"step\": 20}, \"title\": {\"text\": \"Count of Additional Comparisons Generated by Each Blocking Rule\", \"subtitle\": \"(Counts exclude comparisons already generated by previous rules)\"}, \"width\": 450, \"$schema\": \"https://vega.github.io/schema/vega-lite/v5.9.3.json\", \"datasets\": {\"data-b748b89aa6d5868557882ca4eca63426\": [{\"row_count\": 473, \"rule\": \"(SUBSTR(l.\\\"first_name\\\", 1, 1) = SUBSTR(r.\\\"first_name\\\", 1, 1)) AND (l.\\\"surname\\\" = r.\\\"surname\\\")\", \"cumulative_rows\": 473, \"cartesian\": 499500, \"reduction_ratio\": \"The rolling reduction ratio with your given blocking rule(s) is 0.999053. This represents the reduction in the total number of comparisons due to your rule(s).\", \"start\": 0}, {\"row_count\": 1165, \"rule\": \"l.\\\"surname\\\" = r.\\\"surname\\\"\", \"cumulative_rows\": 1638, \"cartesian\": 499500, \"reduction_ratio\": \"The rolling reduction ratio with your given blocking rule(s) is 0.996721. This represents the reduction in the total number of comparisons due to your rule(s).\", \"start\": 473}, {\"row_count\": 468, \"rule\": \"l.\\\"email\\\" = r.\\\"email\\\"\", \"cumulative_rows\": 2106, \"cartesian\": 499500, \"reduction_ratio\": \"The rolling reduction ratio with your given blocking rule(s) is 0.995784. This represents the reduction in the total number of comparisons due to your rule(s).\", \"start\": 1638}]}}, {\"mode\": \"vega-lite\"});\n",
       "</script>"
      ],
      "text/plain": [
       "alt.Chart(...)"
      ]
     },
     "execution_count": 3,
     "metadata": {},
     "output_type": "execute_result"
    }
   ],
   "source": [
    "blocking_rules = [blocking_rule_1, blocking_rule_2, blocking_rule_3]\n",
    "linker.cumulative_num_comparisons_from_blocking_rules_chart(blocking_rules)"
   ]
  },
  {
   "attachments": {},
   "cell_type": "markdown",
   "metadata": {},
   "source": [
    "### Understanding why certain blocking rules create large numbers of comparisons\n",
    "\n",
    "Finally, we can use the `profile_columns` function we saw in the previous tutorial to understand a specific blocking rule in more depth.\n",
    "\n",
    "Suppose we're interested in blocking on city and first initial.  \n",
    "\n",
    "Within each distinct value of `(city, first initial)`, all possible pairwise comparisons will be generated.\n",
    "\n",
    "So for instance, if there are 15 distinct records with `London,J` then these records will result in `n(n-1)/2 = 105` pairwise comparisons being generated.\n",
    "\n",
    "In a larger dataset, we might observe 10,000 `London,J` records, which would then be responsible for `49,995,000` comparisons.  \n",
    "\n",
    "These high-frequency values therefore have a disproportionate influence on the overall number of pairwise comparisons, and so it can be useful to analyse skew, as follows:"
   ]
  },
  {
   "cell_type": "code",
   "execution_count": 4,
   "metadata": {},
   "outputs": [
    {
     "data": {
      "text/html": [
       "\n",
       "<style>\n",
       "  #altair-viz-16b652c871ad47b6b06c97061db3ffc0.vega-embed {\n",
       "    width: 100%;\n",
       "    display: flex;\n",
       "  }\n",
       "\n",
       "  #altair-viz-16b652c871ad47b6b06c97061db3ffc0.vega-embed details,\n",
       "  #altair-viz-16b652c871ad47b6b06c97061db3ffc0.vega-embed details summary {\n",
       "    position: relative;\n",
       "  }\n",
       "</style>\n",
       "<div id=\"altair-viz-16b652c871ad47b6b06c97061db3ffc0\"></div>\n",
       "<script type=\"text/javascript\">\n",
       "  var VEGA_DEBUG = (typeof VEGA_DEBUG == \"undefined\") ? {} : VEGA_DEBUG;\n",
       "  (function(spec, embedOpt){\n",
       "    let outputDiv = document.currentScript.previousElementSibling;\n",
       "    if (outputDiv.id !== \"altair-viz-16b652c871ad47b6b06c97061db3ffc0\") {\n",
       "      outputDiv = document.getElementById(\"altair-viz-16b652c871ad47b6b06c97061db3ffc0\");\n",
       "    }\n",
       "    const paths = {\n",
       "      \"vega\": \"https://cdn.jsdelivr.net/npm/vega@5?noext\",\n",
       "      \"vega-lib\": \"https://cdn.jsdelivr.net/npm/vega-lib?noext\",\n",
       "      \"vega-lite\": \"https://cdn.jsdelivr.net/npm/vega-lite@5.8.0?noext\",\n",
       "      \"vega-embed\": \"https://cdn.jsdelivr.net/npm/vega-embed@6?noext\",\n",
       "    };\n",
       "\n",
       "    function maybeLoadScript(lib, version) {\n",
       "      var key = `${lib.replace(\"-\", \"\")}_version`;\n",
       "      return (VEGA_DEBUG[key] == version) ?\n",
       "        Promise.resolve(paths[lib]) :\n",
       "        new Promise(function(resolve, reject) {\n",
       "          var s = document.createElement('script');\n",
       "          document.getElementsByTagName(\"head\")[0].appendChild(s);\n",
       "          s.async = true;\n",
       "          s.onload = () => {\n",
       "            VEGA_DEBUG[key] = version;\n",
       "            return resolve(paths[lib]);\n",
       "          };\n",
       "          s.onerror = () => reject(`Error loading script: ${paths[lib]}`);\n",
       "          s.src = paths[lib];\n",
       "        });\n",
       "    }\n",
       "\n",
       "    function showError(err) {\n",
       "      outputDiv.innerHTML = `<div class=\"error\" style=\"color:red;\">${err}</div>`;\n",
       "      throw err;\n",
       "    }\n",
       "\n",
       "    function displayChart(vegaEmbed) {\n",
       "      vegaEmbed(outputDiv, spec, embedOpt)\n",
       "        .catch(err => showError(`Javascript Error: ${err.message}<br>This usually means there's a typo in your chart specification. See the javascript console for the full traceback.`));\n",
       "    }\n",
       "\n",
       "    if(typeof define === \"function\" && define.amd) {\n",
       "      requirejs.config({paths});\n",
       "      require([\"vega-embed\"], displayChart, err => showError(`Error loading script: ${err.message}`));\n",
       "    } else {\n",
       "      maybeLoadScript(\"vega\", \"5\")\n",
       "        .then(() => maybeLoadScript(\"vega-lite\", \"5.8.0\"))\n",
       "        .then(() => maybeLoadScript(\"vega-embed\", \"6\"))\n",
       "        .catch(showError)\n",
       "        .then(() => displayChart(vegaEmbed));\n",
       "    }\n",
       "  })({\"config\": {\"view\": {\"continuousWidth\": 400, \"continuousHeight\": 300}}, \"vconcat\": [{\"hconcat\": [{\"mark\": {\"type\": \"line\", \"interpolate\": \"step-after\"}, \"data\": {\"values\": [{\"percentile_ex_nulls\": 0.9777448177337646, \"percentile_inc_nulls\": 0.9850000143051147, \"value_count\": 15, \"group_name\": \"city_left_first_name_1_\", \"total_non_null_rows\": 674, \"total_rows_inc_nulls\": 1000, \"sum_tokens_in_value_count_group\": 15.0, \"distinct_value_count\": 352}, {\"percentile_ex_nulls\": 0.924332320690155, \"percentile_inc_nulls\": 0.9490000009536743, \"value_count\": 12, \"group_name\": \"city_left_first_name_1_\", \"total_non_null_rows\": 674, \"total_rows_inc_nulls\": 1000, \"sum_tokens_in_value_count_group\": 36.0, \"distinct_value_count\": 352}, {\"percentile_ex_nulls\": 0.9094955325126648, \"percentile_inc_nulls\": 0.9390000104904175, \"value_count\": 10, \"group_name\": \"city_left_first_name_1_\", \"total_non_null_rows\": 674, \"total_rows_inc_nulls\": 1000, \"sum_tokens_in_value_count_group\": 10.0, \"distinct_value_count\": 352}, {\"percentile_ex_nulls\": 0.8694362044334412, \"percentile_inc_nulls\": 0.9120000004768372, \"value_count\": 9, \"group_name\": \"city_left_first_name_1_\", \"total_non_null_rows\": 674, \"total_rows_inc_nulls\": 1000, \"sum_tokens_in_value_count_group\": 27.0, \"distinct_value_count\": 352}, {\"percentile_ex_nulls\": 0.8456973433494568, \"percentile_inc_nulls\": 0.8960000276565552, \"value_count\": 8, \"group_name\": \"city_left_first_name_1_\", \"total_non_null_rows\": 674, \"total_rows_inc_nulls\": 1000, \"sum_tokens_in_value_count_group\": 16.0, \"distinct_value_count\": 352}, {\"percentile_ex_nulls\": 0.7937685251235962, \"percentile_inc_nulls\": 0.8610000014305115, \"value_count\": 7, \"group_name\": \"city_left_first_name_1_\", \"total_non_null_rows\": 674, \"total_rows_inc_nulls\": 1000, \"sum_tokens_in_value_count_group\": 35.0, \"distinct_value_count\": 352}, {\"percentile_ex_nulls\": 0.7670623064041138, \"percentile_inc_nulls\": 0.8429999947547913, \"value_count\": 6, \"group_name\": \"city_left_first_name_1_\", \"total_non_null_rows\": 674, \"total_rows_inc_nulls\": 1000, \"sum_tokens_in_value_count_group\": 18.0, \"distinct_value_count\": 352}, {\"percentile_ex_nulls\": 0.7225519418716431, \"percentile_inc_nulls\": 0.812999963760376, \"value_count\": 5, \"group_name\": \"city_left_first_name_1_\", \"total_non_null_rows\": 674, \"total_rows_inc_nulls\": 1000, \"sum_tokens_in_value_count_group\": 30.0, \"distinct_value_count\": 352}, {\"percentile_ex_nulls\": 0.5979228615760803, \"percentile_inc_nulls\": 0.7289999723434448, \"value_count\": 4, \"group_name\": \"city_left_first_name_1_\", \"total_non_null_rows\": 674, \"total_rows_inc_nulls\": 1000, \"sum_tokens_in_value_count_group\": 84.0, \"distinct_value_count\": 352}, {\"percentile_ex_nulls\": 0.46439170837402344, \"percentile_inc_nulls\": 0.6389999985694885, \"value_count\": 3, \"group_name\": \"city_left_first_name_1_\", \"total_non_null_rows\": 674, \"total_rows_inc_nulls\": 1000, \"sum_tokens_in_value_count_group\": 90.0, \"distinct_value_count\": 352}, {\"percentile_ex_nulls\": 0.357566773891449, \"percentile_inc_nulls\": 0.5670000314712524, \"value_count\": 2, \"group_name\": \"city_left_first_name_1_\", \"total_non_null_rows\": 674, \"total_rows_inc_nulls\": 1000, \"sum_tokens_in_value_count_group\": 72.0, \"distinct_value_count\": 352}, {\"percentile_ex_nulls\": 0.0, \"percentile_inc_nulls\": 0.3259999752044678, \"value_count\": 1, \"group_name\": \"city_left_first_name_1_\", \"total_non_null_rows\": 674, \"total_rows_inc_nulls\": 1000, \"sum_tokens_in_value_count_group\": 241.0, \"distinct_value_count\": 352}, {\"percentile_ex_nulls\": 1.0, \"percentile_inc_nulls\": 1.0, \"value_count\": 15, \"group_name\": \"city_left_first_name_1_\", \"total_non_null_rows\": 674, \"total_rows_inc_nulls\": 1000, \"sum_tokens_in_value_count_group\": 15.0, \"distinct_value_count\": 352}]}, \"encoding\": {\"tooltip\": [{\"field\": \"value_count\", \"type\": \"quantitative\"}, {\"field\": \"percentile_ex_nulls\", \"type\": \"quantitative\"}, {\"field\": \"percentile_inc_nulls\", \"type\": \"quantitative\"}, {\"field\": \"total_non_null_rows\", \"type\": \"quantitative\"}, {\"field\": \"total_rows_inc_nulls\", \"type\": \"quantitative\"}], \"x\": {\"field\": \"percentile_ex_nulls\", \"sort\": \"descending\", \"title\": \"Percentile\", \"type\": \"quantitative\"}, \"y\": {\"field\": \"value_count\", \"title\": \"Count of values\", \"type\": \"quantitative\"}}, \"title\": {\"text\": \"Distribution of counts of values in column city || left(first_name,1)\", \"subtitle\": \"In this col, 326 values (32.6%) are null and there are 352 distinct values\"}}, {\"mark\": \"bar\", \"data\": {\"values\": [{\"value_count\": 15, \"group_name\": \"city_left_first_name_1_\", \"value\": \"LondonJ\", \"total_non_null_rows\": 674, \"total_rows_inc_nulls\": 1000, \"distinct_value_count\": 352}, {\"value_count\": 12, \"group_name\": \"city_left_first_name_1_\", \"value\": \"LondonH\", \"total_non_null_rows\": 674, \"total_rows_inc_nulls\": 1000, \"distinct_value_count\": 352}, {\"value_count\": 12, \"group_name\": \"city_left_first_name_1_\", \"value\": \"LondonE\", \"total_non_null_rows\": 674, \"total_rows_inc_nulls\": 1000, \"distinct_value_count\": 352}, {\"value_count\": 12, \"group_name\": \"city_left_first_name_1_\", \"value\": \"LondonF\", \"total_non_null_rows\": 674, \"total_rows_inc_nulls\": 1000, \"distinct_value_count\": 352}, {\"value_count\": 10, \"group_name\": \"city_left_first_name_1_\", \"value\": \"LondonO\", \"total_non_null_rows\": 674, \"total_rows_inc_nulls\": 1000, \"distinct_value_count\": 352}, {\"value_count\": 9, \"group_name\": \"city_left_first_name_1_\", \"value\": \"LondonL\", \"total_non_null_rows\": 674, \"total_rows_inc_nulls\": 1000, \"distinct_value_count\": 352}, {\"value_count\": 9, \"group_name\": \"city_left_first_name_1_\", \"value\": \"LondonT\", \"total_non_null_rows\": 674, \"total_rows_inc_nulls\": 1000, \"distinct_value_count\": 352}, {\"value_count\": 9, \"group_name\": \"city_left_first_name_1_\", \"value\": \"BirminghamT\", \"total_non_null_rows\": 674, \"total_rows_inc_nulls\": 1000, \"distinct_value_count\": 352}, {\"value_count\": 8, \"group_name\": \"city_left_first_name_1_\", \"value\": \"CoventryL\", \"total_non_null_rows\": 674, \"total_rows_inc_nulls\": 1000, \"distinct_value_count\": 352}, {\"value_count\": 8, \"group_name\": \"city_left_first_name_1_\", \"value\": \"SalfordL\", \"total_non_null_rows\": 674, \"total_rows_inc_nulls\": 1000, \"distinct_value_count\": 352}]}, \"encoding\": {\"tooltip\": [{\"field\": \"value\", \"type\": \"nominal\"}, {\"field\": \"value_count\", \"type\": \"quantitative\"}, {\"field\": \"total_non_null_rows\", \"type\": \"quantitative\"}, {\"field\": \"total_rows_inc_nulls\", \"type\": \"quantitative\"}], \"x\": {\"field\": \"value\", \"sort\": \"-y\", \"title\": null, \"type\": \"nominal\"}, \"y\": {\"field\": \"value_count\", \"title\": \"Value count\", \"type\": \"quantitative\"}}, \"title\": \"Top 10 values by value count\"}, {\"mark\": \"bar\", \"data\": {\"values\": [{\"value_count\": 1, \"group_name\": \"city_left_first_name_1_\", \"value\": \"LononR\", \"total_non_null_rows\": 674, \"total_rows_inc_nulls\": 1000, \"distinct_value_count\": 352}, {\"value_count\": 1, \"group_name\": \"city_left_first_name_1_\", \"value\": \"HullG\", \"total_non_null_rows\": 674, \"total_rows_inc_nulls\": 1000, \"distinct_value_count\": 352}, {\"value_count\": 1, \"group_name\": \"city_left_first_name_1_\", \"value\": \"PootsmruthE\", \"total_non_null_rows\": 674, \"total_rows_inc_nulls\": 1000, \"distinct_value_count\": 352}, {\"value_count\": 1, \"group_name\": \"city_left_first_name_1_\", \"value\": \"LuntonO\", \"total_non_null_rows\": 674, \"total_rows_inc_nulls\": 1000, \"distinct_value_count\": 352}, {\"value_count\": 1, \"group_name\": \"city_left_first_name_1_\", \"value\": \"LvpreoolR\", \"total_non_null_rows\": 674, \"total_rows_inc_nulls\": 1000, \"distinct_value_count\": 352}, {\"value_count\": 1, \"group_name\": \"city_left_first_name_1_\", \"value\": \"SouthamptonD\", \"total_non_null_rows\": 674, \"total_rows_inc_nulls\": 1000, \"distinct_value_count\": 352}, {\"value_count\": 1, \"group_name\": \"city_left_first_name_1_\", \"value\": \"LoodonT\", \"total_non_null_rows\": 674, \"total_rows_inc_nulls\": 1000, \"distinct_value_count\": 352}, {\"value_count\": 1, \"group_name\": \"city_left_first_name_1_\", \"value\": \"BradfordL\", \"total_non_null_rows\": 674, \"total_rows_inc_nulls\": 1000, \"distinct_value_count\": 352}, {\"value_count\": 1, \"group_name\": \"city_left_first_name_1_\", \"value\": \"BradfofrdL\", \"total_non_null_rows\": 674, \"total_rows_inc_nulls\": 1000, \"distinct_value_count\": 352}, {\"value_count\": 1, \"group_name\": \"city_left_first_name_1_\", \"value\": \"BiminghamT\", \"total_non_null_rows\": 674, \"total_rows_inc_nulls\": 1000, \"distinct_value_count\": 352}]}, \"encoding\": {\"tooltip\": [{\"field\": \"value\", \"type\": \"nominal\"}, {\"field\": \"value_count\", \"type\": \"quantitative\"}, {\"field\": \"total_non_null_rows\", \"type\": \"quantitative\"}, {\"field\": \"total_rows_inc_nulls\", \"type\": \"quantitative\"}], \"x\": {\"field\": \"value\", \"sort\": \"-y\", \"title\": null, \"type\": \"nominal\"}, \"y\": {\"field\": \"value_count\", \"scale\": {\"domain\": [0, 15]}, \"title\": \"Value count\", \"type\": \"quantitative\"}}, \"title\": \"Bottom 10 values by value count\"}]}], \"$schema\": \"https://vega.github.io/schema/vega-lite/v5.9.3.json\"}, {\"mode\": \"vega-lite\"});\n",
       "</script>"
      ],
      "text/plain": [
       "alt.VConcatChart(...)"
      ]
     },
     "execution_count": 4,
     "metadata": {},
     "output_type": "execute_result"
    }
   ],
   "source": [
    "linker.profile_columns(\"city || left(first_name,1)\")"
   ]
  },
  {
   "attachments": {},
   "cell_type": "markdown",
   "metadata": {},
   "source": [
    "!!! note \"Further Reading\"\n",
    "    :simple-readme: For a deeper dive on blocking, please refer to the [Blocking Topic Guides](../../topic_guides/blocking_rules.md).\n",
    "\n",
    "    :material-tools: For more on the blocking tools in Splink, please refer to the [Blocking API documentation](../../linkerbloc.md).\n",
    "\n",
    "    :bar_chart: For more on the charts used in this tutorial, please refer to the [Charts Gallery](../../charts/index.md#blocking)."
   ]
  },
  {
   "attachments": {},
   "cell_type": "markdown",
   "metadata": {},
   "source": [
    "## Next steps\n",
    "\n",
    "Now we have chosen which records to compare, we can use those records to train a linkage model."
   ]
  }
 ],
 "metadata": {
  "kernelspec": {
   "display_name": "Python 3 (ipykernel)",
   "language": "python",
   "name": "python3"
  },
  "language_info": {
   "codemirror_mode": {
    "name": "ipython",
    "version": 3
   },
   "file_extension": ".py",
   "mimetype": "text/x-python",
   "name": "python",
   "nbconvert_exporter": "python",
   "pygments_lexer": "ipython3",
   "version": "3.11.3"
  }
 },
 "nbformat": 4,
 "nbformat_minor": 4
}
