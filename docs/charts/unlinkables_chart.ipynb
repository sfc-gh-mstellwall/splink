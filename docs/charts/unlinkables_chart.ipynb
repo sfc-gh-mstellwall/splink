{
 "cells": [
  {
   "attachments": {},
   "cell_type": "markdown",
   "metadata": {},
   "source": [
    "!!! warning \"Work in Progress\"\n",
    "    This page is currently under construction. \n",
    "\n",
    "# `unlinkables_chart`\n",
    "\n",
    "!!! info \"At a glance\"\n",
    "    **Useful for:** Looking at the proprtion of records with insufficient information to be linked to themselves.\n",
    "\n",
    "    **API Documentation:** [unlinkables_chart()](../linker.md#splink.linker.Linker.unlinkables_chart)\n",
    "\n",
    "    **What is needed to generate the chart?** A trained Splink model"
   ]
  },
  {
   "attachments": {},
   "cell_type": "markdown",
   "metadata": {},
   "source": [
    "## Worked Example"
   ]
  },
  {
   "cell_type": "code",
   "execution_count": 1,
   "metadata": {},
   "outputs": [
    {
     "data": {
      "application/vnd.jupyter.widget-view+json": {
       "model_id": "f93f3e9c4f434d2586aae226f9cec07b",
       "version_major": 2,
       "version_minor": 0
      },
      "text/plain": [
       "FloatProgress(value=0.0, layout=Layout(width='auto'), style=ProgressStyle(bar_color='black'))"
      ]
     },
     "metadata": {},
     "output_type": "display_data"
    },
    {
     "data": {
      "text/html": [
       "\n",
       "<style>\n",
       "  #altair-viz-437f987eb4c04697b603f140c8d491d8.vega-embed {\n",
       "    width: 100%;\n",
       "    display: flex;\n",
       "  }\n",
       "\n",
       "  #altair-viz-437f987eb4c04697b603f140c8d491d8.vega-embed details,\n",
       "  #altair-viz-437f987eb4c04697b603f140c8d491d8.vega-embed details summary {\n",
       "    position: relative;\n",
       "  }\n",
       "</style>\n",
       "<div id=\"altair-viz-437f987eb4c04697b603f140c8d491d8\"></div>\n",
       "<script type=\"text/javascript\">\n",
       "  var VEGA_DEBUG = (typeof VEGA_DEBUG == \"undefined\") ? {} : VEGA_DEBUG;\n",
       "  (function(spec, embedOpt){\n",
       "    let outputDiv = document.currentScript.previousElementSibling;\n",
       "    if (outputDiv.id !== \"altair-viz-437f987eb4c04697b603f140c8d491d8\") {\n",
       "      outputDiv = document.getElementById(\"altair-viz-437f987eb4c04697b603f140c8d491d8\");\n",
       "    }\n",
       "    const paths = {\n",
       "      \"vega\": \"https://cdn.jsdelivr.net/npm/vega@5?noext\",\n",
       "      \"vega-lib\": \"https://cdn.jsdelivr.net/npm/vega-lib?noext\",\n",
       "      \"vega-lite\": \"https://cdn.jsdelivr.net/npm/vega-lite@5.8.0?noext\",\n",
       "      \"vega-embed\": \"https://cdn.jsdelivr.net/npm/vega-embed@6?noext\",\n",
       "    };\n",
       "\n",
       "    function maybeLoadScript(lib, version) {\n",
       "      var key = `${lib.replace(\"-\", \"\")}_version`;\n",
       "      return (VEGA_DEBUG[key] == version) ?\n",
       "        Promise.resolve(paths[lib]) :\n",
       "        new Promise(function(resolve, reject) {\n",
       "          var s = document.createElement('script');\n",
       "          document.getElementsByTagName(\"head\")[0].appendChild(s);\n",
       "          s.async = true;\n",
       "          s.onload = () => {\n",
       "            VEGA_DEBUG[key] = version;\n",
       "            return resolve(paths[lib]);\n",
       "          };\n",
       "          s.onerror = () => reject(`Error loading script: ${paths[lib]}`);\n",
       "          s.src = paths[lib];\n",
       "        });\n",
       "    }\n",
       "\n",
       "    function showError(err) {\n",
       "      outputDiv.innerHTML = `<div class=\"error\" style=\"color:red;\">${err}</div>`;\n",
       "      throw err;\n",
       "    }\n",
       "\n",
       "    function displayChart(vegaEmbed) {\n",
       "      vegaEmbed(outputDiv, spec, embedOpt)\n",
       "        .catch(err => showError(`Javascript Error: ${err.message}<br>This usually means there's a typo in your chart specification. See the javascript console for the full traceback.`));\n",
       "    }\n",
       "\n",
       "    if(typeof define === \"function\" && define.amd) {\n",
       "      requirejs.config({paths});\n",
       "      require([\"vega-embed\"], displayChart, err => showError(`Error loading script: ${err.message}`));\n",
       "    } else {\n",
       "      maybeLoadScript(\"vega\", \"5\")\n",
       "        .then(() => maybeLoadScript(\"vega-lite\", \"5.8.0\"))\n",
       "        .then(() => maybeLoadScript(\"vega-embed\", \"6\"))\n",
       "        .catch(showError)\n",
       "        .then(() => displayChart(vegaEmbed));\n",
       "    }\n",
       "  })({\"config\": {\"view\": {\"continuousWidth\": 400, \"continuousHeight\": 300}}, \"layer\": [{\"mark\": {\"type\": \"line\"}, \"encoding\": {\"x\": {\"axis\": {\"format\": \"+\", \"title\": \"Threshold match weight\"}, \"field\": \"match_weight\", \"type\": \"quantitative\"}, \"y\": {\"axis\": {\"format\": \"%\", \"title\": \"Percentage of unlinkable records\"}, \"field\": \"cum_prop\", \"type\": \"quantitative\"}}}, {\"mark\": {\"type\": \"point\"}, \"encoding\": {\"opacity\": {\"condition\": {\"param\": \"x_match_weight_y_cum_prop_coords_of_mouse\", \"value\": 1, \"empty\": false}, \"value\": 0}, \"tooltip\": [{\"field\": \"match_weight\", \"format\": \"+.5\", \"title\": \"Match weight\", \"type\": \"quantitative\"}, {\"field\": \"match_probability\", \"format\": \".5\", \"title\": \"Match probability\", \"type\": \"quantitative\"}, {\"field\": \"cum_prop\", \"format\": \".3%\", \"title\": \"Proportion of unlinkable records\", \"type\": \"quantitative\"}], \"x\": {\"axis\": {\"title\": \"Threshold match weight\"}, \"field\": \"match_weight\", \"type\": \"quantitative\"}, \"y\": {\"axis\": {\"format\": \"%\", \"title\": \"Percentage of unlinkable records\"}, \"field\": \"cum_prop\", \"type\": \"quantitative\"}}, \"name\": \"mouse_coords\"}, {\"mark\": {\"type\": \"rule\", \"color\": \"gray\"}, \"encoding\": {\"x\": {\"field\": \"match_weight\", \"type\": \"quantitative\"}}, \"transform\": [{\"filter\": {\"param\": \"x_match_weight_y_cum_prop_coords_of_mouse\", \"empty\": false}}]}, {\"mark\": {\"type\": \"rule\", \"color\": \"gray\"}, \"encoding\": {\"y\": {\"field\": \"cum_prop\", \"type\": \"quantitative\"}}, \"transform\": [{\"filter\": {\"param\": \"x_match_weight_y_cum_prop_coords_of_mouse\", \"empty\": false}}]}], \"data\": {\"name\": \"data-ae4cbb49f9318ecaf83cb0224bd2e6c3\"}, \"height\": 400, \"params\": [{\"name\": \"x_match_weight_y_cum_prop_coords_of_mouse\", \"select\": {\"type\": \"point\", \"fields\": [\"match_weight\", \"cum_prop\"], \"nearest\": true, \"on\": \"mouseover\"}, \"views\": [\"mouse_coords\"]}], \"title\": {\"text\": \"Unlinkable records\", \"subtitle\": \"Records with insufficient information to exceed a given match threshold\"}, \"width\": 400, \"$schema\": \"https://vega.github.io/schema/vega-lite/v5.9.3.json\", \"datasets\": {\"data-ae4cbb49f9318ecaf83cb0224bd2e6c3\": [{\"match_weight\": -5.49, \"match_probability\": 0.02184, \"prop\": 0.0020000000949949026, \"cum_prop\": 0.0020000000949949026}, {\"match_weight\": -1.62, \"match_probability\": 0.245, \"prop\": 0.0010000000474974513, \"cum_prop\": 0.003000000142492354}, {\"match_weight\": -0.46, \"match_probability\": 0.42091, \"prop\": 0.0010000000474974513, \"cum_prop\": 0.004000000189989805}, {\"match_weight\": -0.4, \"match_probability\": 0.43091, \"prop\": 0.0010000000474974513, \"cum_prop\": 0.0050000002374872565}, {\"match_weight\": 0.98, \"match_probability\": 0.66418, \"prop\": 0.007000000216066837, \"cum_prop\": 0.012000000453554094}, {\"match_weight\": 1.0, \"match_probability\": 0.66608, \"prop\": 0.0010000000474974513, \"cum_prop\": 0.013000000501051545}, {\"match_weight\": 1.03, \"match_probability\": 0.67053, \"prop\": 0.0010000000474974513, \"cum_prop\": 0.014000000548548996}, {\"match_weight\": 2.18, \"match_probability\": 0.8196, \"prop\": 0.0010000000474974513, \"cum_prop\": 0.015000000596046448}, {\"match_weight\": 2.38, \"match_probability\": 0.83898, \"prop\": 0.0020000000949949026, \"cum_prop\": 0.01700000069104135}, {\"match_weight\": 2.5, \"match_probability\": 0.84934, \"prop\": 0.006000000052154064, \"cum_prop\": 0.023000000743195415}, {\"match_weight\": 2.58, \"match_probability\": 0.85682, \"prop\": 0.0010000000474974513, \"cum_prop\": 0.024000000790692866}, {\"match_weight\": 3.0, \"match_probability\": 0.88863, \"prop\": 0.0010000000474974513, \"cum_prop\": 0.025000000838190317}, {\"match_weight\": 3.35, \"match_probability\": 0.91052, \"prop\": 0.003000000026077032, \"cum_prop\": 0.02800000086426735}, {\"match_weight\": 3.89, \"match_probability\": 0.93691, \"prop\": 0.00800000037997961, \"cum_prop\": 0.03600000124424696}, {\"match_weight\": 4.49, \"match_probability\": 0.95751, \"prop\": 0.003000000026077032, \"cum_prop\": 0.03900000127032399}, {\"match_weight\": 4.58, \"match_probability\": 0.9599, \"prop\": 0.0020000000949949026, \"cum_prop\": 0.041000001365318894}, {\"match_weight\": 4.97, \"match_probability\": 0.96911, \"prop\": 0.0010000000474974513, \"cum_prop\": 0.042000001412816346}, {\"match_weight\": 5.42, \"match_probability\": 0.97723, \"prop\": 0.0010000000474974513, \"cum_prop\": 0.0430000014603138}, {\"match_weight\": 5.69, \"match_probability\": 0.98105, \"prop\": 0.0010000000474974513, \"cum_prop\": 0.04400000150781125}, {\"match_weight\": 5.73, \"match_probability\": 0.98149, \"prop\": 0.0020000000949949026, \"cum_prop\": 0.04600000160280615}, {\"match_weight\": 5.82, \"match_probability\": 0.98256, \"prop\": 0.0010000000474974513, \"cum_prop\": 0.0470000016503036}, {\"match_weight\": 5.85, \"match_probability\": 0.9829, \"prop\": 0.0010000000474974513, \"cum_prop\": 0.048000001697801054}, {\"match_weight\": 5.85, \"match_probability\": 0.98291, \"prop\": 0.0010000000474974513, \"cum_prop\": 0.049000001745298505}, {\"match_weight\": 6.01, \"match_probability\": 0.98467, \"prop\": 0.0010000000474974513, \"cum_prop\": 0.050000001792795956}, {\"match_weight\": 6.04, \"match_probability\": 0.98501, \"prop\": 0.0010000000474974513, \"cum_prop\": 0.05100000184029341}, {\"match_weight\": 6.12, \"match_probability\": 0.98578, \"prop\": 0.0010000000474974513, \"cum_prop\": 0.05200000188779086}, {\"match_weight\": 6.19, \"match_probability\": 0.98652, \"prop\": 0.003000000026077032, \"cum_prop\": 0.05500000191386789}, {\"match_weight\": 6.24, \"match_probability\": 0.98697, \"prop\": 0.0020000000949949026, \"cum_prop\": 0.05700000200886279}, {\"match_weight\": 6.33, \"match_probability\": 0.98773, \"prop\": 0.0010000000474974513, \"cum_prop\": 0.058000002056360245}, {\"match_weight\": 6.36, \"match_probability\": 0.98794, \"prop\": 0.0010000000474974513, \"cum_prop\": 0.059000002103857696}, {\"match_weight\": 6.48, \"match_probability\": 0.98894, \"prop\": 0.0010000000474974513, \"cum_prop\": 0.06000000215135515}, {\"match_weight\": 6.62, \"match_probability\": 0.98996, \"prop\": 0.0010000000474974513, \"cum_prop\": 0.0610000021988526}, {\"match_weight\": 6.65, \"match_probability\": 0.99011, \"prop\": 0.003000000026077032, \"cum_prop\": 0.06400000222492963}, {\"match_weight\": 6.82, \"match_probability\": 0.9912, \"prop\": 0.0010000000474974513, \"cum_prop\": 0.06500000227242708}, {\"match_weight\": 6.89, \"match_probability\": 0.99162, \"prop\": 0.0010000000474974513, \"cum_prop\": 0.06600000231992453}, {\"match_weight\": 6.93, \"match_probability\": 0.99189, \"prop\": 0.0010000000474974513, \"cum_prop\": 0.06700000236742198}, {\"match_weight\": 7.01, \"match_probability\": 0.99229, \"prop\": 0.0010000000474974513, \"cum_prop\": 0.06800000241491944}, {\"match_weight\": 7.05, \"match_probability\": 0.99251, \"prop\": 0.0010000000474974513, \"cum_prop\": 0.06900000246241689}, {\"match_weight\": 7.07, \"match_probability\": 0.9926, \"prop\": 0.0010000000474974513, \"cum_prop\": 0.07000000250991434}, {\"match_weight\": 7.16, \"match_probability\": 0.99304, \"prop\": 0.0010000000474974513, \"cum_prop\": 0.07100000255741179}, {\"match_weight\": 7.23, \"match_probability\": 0.99339, \"prop\": 0.0010000000474974513, \"cum_prop\": 0.07200000260490924}, {\"match_weight\": 7.24, \"match_probability\": 0.99343, \"prop\": 0.0020000000949949026, \"cum_prop\": 0.07400000269990414}, {\"match_weight\": 7.33, \"match_probability\": 0.99381, \"prop\": 0.0010000000474974513, \"cum_prop\": 0.0750000027474016}, {\"match_weight\": 7.33, \"match_probability\": 0.99383, \"prop\": 0.0020000000949949026, \"cum_prop\": 0.0770000028423965}, {\"match_weight\": 7.35, \"match_probability\": 0.99391, \"prop\": 0.0010000000474974513, \"cum_prop\": 0.07800000288989395}, {\"match_weight\": 7.36, \"match_probability\": 0.99393, \"prop\": 0.0010000000474974513, \"cum_prop\": 0.0790000029373914}, {\"match_weight\": 7.49, \"match_probability\": 0.99448, \"prop\": 0.0010000000474974513, \"cum_prop\": 0.08000000298488885}, {\"match_weight\": 7.52, \"match_probability\": 0.99458, \"prop\": 0.0020000000949949026, \"cum_prop\": 0.08200000307988375}, {\"match_weight\": 7.63, \"match_probability\": 0.99497, \"prop\": 0.0010000000474974513, \"cum_prop\": 0.0830000031273812}, {\"match_weight\": 7.65, \"match_probability\": 0.99505, \"prop\": 0.0020000000949949026, \"cum_prop\": 0.08500000322237611}, {\"match_weight\": 7.7, \"match_probability\": 0.99523, \"prop\": 0.0020000000949949026, \"cum_prop\": 0.08700000331737101}, {\"match_weight\": 7.73, \"match_probability\": 0.99531, \"prop\": 0.0010000000474974513, \"cum_prop\": 0.08800000336486846}, {\"match_weight\": 7.82, \"match_probability\": 0.99558, \"prop\": 0.0010000000474974513, \"cum_prop\": 0.08900000341236591}, {\"match_weight\": 7.93, \"match_probability\": 0.99591, \"prop\": 0.0010000000474974513, \"cum_prop\": 0.09000000345986336}, {\"match_weight\": 8.02, \"match_probability\": 0.99615, \"prop\": 0.0010000000474974513, \"cum_prop\": 0.09100000350736082}, {\"match_weight\": 8.07, \"match_probability\": 0.99629, \"prop\": 0.0010000000474974513, \"cum_prop\": 0.09200000355485827}, {\"match_weight\": 8.21, \"match_probability\": 0.99663, \"prop\": 0.0010000000474974513, \"cum_prop\": 0.09300000360235572}, {\"match_weight\": 8.33, \"match_probability\": 0.9969, \"prop\": 0.0010000000474974513, \"cum_prop\": 0.09400000364985317}, {\"match_weight\": 8.43, \"match_probability\": 0.99711, \"prop\": 0.0010000000474974513, \"cum_prop\": 0.09500000369735062}, {\"match_weight\": 8.47, \"match_probability\": 0.99718, \"prop\": 0.0020000000949949026, \"cum_prop\": 0.09700000379234552}, {\"match_weight\": 8.58, \"match_probability\": 0.99739, \"prop\": 0.0010000000474974513, \"cum_prop\": 0.09800000383984298}, {\"match_weight\": 8.65, \"match_probability\": 0.99752, \"prop\": 0.004000000189989805, \"cum_prop\": 0.10200000402983278}, {\"match_weight\": 8.73, \"match_probability\": 0.99765, \"prop\": 0.0020000000949949026, \"cum_prop\": 0.10400000412482768}, {\"match_weight\": 8.82, \"match_probability\": 0.99779, \"prop\": 0.0020000000949949026, \"cum_prop\": 0.10600000421982259}, {\"match_weight\": 8.85, \"match_probability\": 0.99783, \"prop\": 0.0020000000949949026, \"cum_prop\": 0.10800000431481749}, {\"match_weight\": 8.96, \"match_probability\": 0.998, \"prop\": 0.014999999664723873, \"cum_prop\": 0.12300000397954136}, {\"match_weight\": 9.05, \"match_probability\": 0.99812, \"prop\": 0.003000000026077032, \"cum_prop\": 0.1260000040056184}, {\"match_weight\": 9.1, \"match_probability\": 0.99818, \"prop\": 0.0010000000474974513, \"cum_prop\": 0.12700000405311584}, {\"match_weight\": 9.16, \"match_probability\": 0.99826, \"prop\": 0.004000000189989805, \"cum_prop\": 0.13100000424310565}, {\"match_weight\": 9.24, \"match_probability\": 0.99835, \"prop\": 0.0010000000474974513, \"cum_prop\": 0.1320000042906031}, {\"match_weight\": 9.33, \"match_probability\": 0.99845, \"prop\": 0.0010000000474974513, \"cum_prop\": 0.13300000433810055}, {\"match_weight\": 9.36, \"match_probability\": 0.99848, \"prop\": 0.0010000000474974513, \"cum_prop\": 0.134000004385598}, {\"match_weight\": 9.39, \"match_probability\": 0.99851, \"prop\": 0.0010000000474974513, \"cum_prop\": 0.13500000443309546}, {\"match_weight\": 9.43, \"match_probability\": 0.99855, \"prop\": 0.0020000000949949026, \"cum_prop\": 0.13700000452809036}, {\"match_weight\": 9.47, \"match_probability\": 0.99859, \"prop\": 0.0010000000474974513, \"cum_prop\": 0.1380000045755878}, {\"match_weight\": 9.58, \"match_probability\": 0.99869, \"prop\": 0.0020000000949949026, \"cum_prop\": 0.1400000046705827}, {\"match_weight\": 9.65, \"match_probability\": 0.99876, \"prop\": 0.007000000216066837, \"cum_prop\": 0.14700000488664955}, {\"match_weight\": 9.69, \"match_probability\": 0.99879, \"prop\": 0.0010000000474974513, \"cum_prop\": 0.148000004934147}, {\"match_weight\": 9.75, \"match_probability\": 0.99884, \"prop\": 0.0010000000474974513, \"cum_prop\": 0.14900000498164445}, {\"match_weight\": 9.82, \"match_probability\": 0.99889, \"prop\": 0.006000000052154064, \"cum_prop\": 0.15500000503379852}, {\"match_weight\": 9.84, \"match_probability\": 0.99891, \"prop\": 0.0020000000949949026, \"cum_prop\": 0.15700000512879342}, {\"match_weight\": 9.98, \"match_probability\": 0.99901, \"prop\": 0.004000000189989805, \"cum_prop\": 0.16100000531878322}, {\"match_weight\": 10.02, \"match_probability\": 0.99903, \"prop\": 0.0020000000949949026, \"cum_prop\": 0.16300000541377813}, {\"match_weight\": 10.05, \"match_probability\": 0.99906, \"prop\": 0.003000000026077032, \"cum_prop\": 0.16600000543985516}, {\"match_weight\": 10.16, \"match_probability\": 0.99913, \"prop\": 0.0010000000474974513, \"cum_prop\": 0.1670000054873526}, {\"match_weight\": 10.24, \"match_probability\": 0.99917, \"prop\": 0.0020000000949949026, \"cum_prop\": 0.1690000055823475}, {\"match_weight\": 10.33, \"match_probability\": 0.99922, \"prop\": 0.0010000000474974513, \"cum_prop\": 0.17000000562984496}, {\"match_weight\": 10.36, \"match_probability\": 0.99924, \"prop\": 0.019999999552965164, \"cum_prop\": 0.19000000518281013}, {\"match_weight\": 10.56, \"match_probability\": 0.99934, \"prop\": 0.003000000026077032, \"cum_prop\": 0.19300000520888716}, {\"match_weight\": 10.58, \"match_probability\": 0.99935, \"prop\": 0.0010000000474974513, \"cum_prop\": 0.1940000052563846}, {\"match_weight\": 10.77, \"match_probability\": 0.99943, \"prop\": 0.0010000000474974513, \"cum_prop\": 0.19500000530388206}, {\"match_weight\": 10.86, \"match_probability\": 0.99946, \"prop\": 0.0010000000474974513, \"cum_prop\": 0.1960000053513795}, {\"match_weight\": 10.98, \"match_probability\": 0.9995, \"prop\": 0.0010000000474974513, \"cum_prop\": 0.19700000539887697}, {\"match_weight\": 11.05, \"match_probability\": 0.99953, \"prop\": 0.006000000052154064, \"cum_prop\": 0.20300000545103103}, {\"match_weight\": 11.12, \"match_probability\": 0.99955, \"prop\": 0.0010000000474974513, \"cum_prop\": 0.20400000549852848}, {\"match_weight\": 11.16, \"match_probability\": 0.99956, \"prop\": 0.006000000052154064, \"cum_prop\": 0.21000000555068254}, {\"match_weight\": 11.33, \"match_probability\": 0.99961, \"prop\": 0.004000000189989805, \"cum_prop\": 0.21400000574067235}, {\"match_weight\": 11.36, \"match_probability\": 0.99962, \"prop\": 0.0010000000474974513, \"cum_prop\": 0.2150000057881698}, {\"match_weight\": 11.51, \"match_probability\": 0.99966, \"prop\": 0.0020000000949949026, \"cum_prop\": 0.2170000058831647}, {\"match_weight\": 11.58, \"match_probability\": 0.99967, \"prop\": 0.0010000000474974513, \"cum_prop\": 0.21800000593066216}, {\"match_weight\": 11.61, \"match_probability\": 0.99968, \"prop\": 0.0020000000949949026, \"cum_prop\": 0.22000000602565706}, {\"match_weight\": 11.68, \"match_probability\": 0.99969, \"prop\": 0.0010000000474974513, \"cum_prop\": 0.2210000060731545}, {\"match_weight\": 11.78, \"match_probability\": 0.99972, \"prop\": 0.0020000000949949026, \"cum_prop\": 0.2230000061681494}, {\"match_weight\": 11.9, \"match_probability\": 0.99974, \"prop\": 0.0010000000474974513, \"cum_prop\": 0.22400000621564686}, {\"match_weight\": 12.02, \"match_probability\": 0.99976, \"prop\": 0.0020000000949949026, \"cum_prop\": 0.22600000631064177}, {\"match_weight\": 12.09, \"match_probability\": 0.99977, \"prop\": 0.007000000216066837, \"cum_prop\": 0.2330000065267086}, {\"match_weight\": 12.16, \"match_probability\": 0.99978, \"prop\": 0.003000000026077032, \"cum_prop\": 0.23600000655278563}, {\"match_weight\": 12.22, \"match_probability\": 0.99979, \"prop\": 0.0010000000474974513, \"cum_prop\": 0.2370000066002831}, {\"match_weight\": 12.31, \"match_probability\": 0.9998, \"prop\": 0.0020000000949949026, \"cum_prop\": 0.239000006695278}, {\"match_weight\": 12.38, \"match_probability\": 0.99981, \"prop\": 0.003000000026077032, \"cum_prop\": 0.24200000672135502}, {\"match_weight\": 12.47, \"match_probability\": 0.99982, \"prop\": 0.003000000026077032, \"cum_prop\": 0.24500000674743205}, {\"match_weight\": 12.56, \"match_probability\": 0.99983, \"prop\": 0.006000000052154064, \"cum_prop\": 0.2510000067995861}, {\"match_weight\": 12.58, \"match_probability\": 0.99984, \"prop\": 0.0010000000474974513, \"cum_prop\": 0.25200000684708357}, {\"match_weight\": 12.73, \"match_probability\": 0.99985, \"prop\": 0.0020000000949949026, \"cum_prop\": 0.25400000694207847}, {\"match_weight\": 12.83, \"match_probability\": 0.99986, \"prop\": 0.006000000052154064, \"cum_prop\": 0.26000000699423254}, {\"match_weight\": 12.95, \"match_probability\": 0.99987, \"prop\": 0.004000000189989805, \"cum_prop\": 0.26400000718422234}, {\"match_weight\": 13.2, \"match_probability\": 0.99989, \"prop\": 0.009999999776482582, \"cum_prop\": 0.2740000069607049}, {\"match_weight\": 13.36, \"match_probability\": 0.9999, \"prop\": 0.006000000052154064, \"cum_prop\": 0.280000007012859}, {\"match_weight\": 13.44, \"match_probability\": 0.99991, \"prop\": 0.006000000052154064, \"cum_prop\": 0.28600000706501305}, {\"match_weight\": 13.68, \"match_probability\": 0.99992, \"prop\": 0.00800000037997961, \"cum_prop\": 0.29400000744499266}, {\"match_weight\": 13.91, \"match_probability\": 0.99993, \"prop\": 0.01600000075995922, \"cum_prop\": 0.3100000082049519}, {\"match_weight\": 14.1, \"match_probability\": 0.99994, \"prop\": 0.01899999938905239, \"cum_prop\": 0.3290000075940043}, {\"match_weight\": 14.41, \"match_probability\": 0.99995, \"prop\": 0.024000000208616257, \"cum_prop\": 0.35300000780262053}, {\"match_weight\": 14.8, \"match_probability\": 0.99996, \"prop\": 0.03400000184774399, \"cum_prop\": 0.3870000096503645}, {\"match_weight\": 15.22, \"match_probability\": 0.99997, \"prop\": 0.02800000086426735, \"cum_prop\": 0.41500001051463187}, {\"match_weight\": 16.0, \"match_probability\": 0.99998, \"prop\": 0.057999998331069946, \"cum_prop\": 0.4730000088457018}, {\"match_weight\": 17.51, \"match_probability\": 0.99999, \"prop\": 0.0949999988079071, \"cum_prop\": 0.5680000076536089}]}}, {\"mode\": \"vega-lite\"});\n",
       "</script>"
      ],
      "text/plain": [
       "alt.LayerChart(...)"
      ]
     },
     "execution_count": 1,
     "metadata": {},
     "output_type": "execute_result"
    }
   ],
   "source": [
    "from splink.duckdb.linker import DuckDBLinker\n",
    "import splink.duckdb.comparison_library as cl\n",
    "import splink.duckdb.comparison_template_library as ctl\n",
    "import splink.duckdb.blocking_rule_library as brl\n",
    "from splink.datasets import splink_datasets\n",
    "import logging, sys\n",
    "logging.disable(sys.maxsize)\n",
    "\n",
    "df = splink_datasets.fake_1000\n",
    "\n",
    "settings = {\n",
    "    \"link_type\": \"dedupe_only\",\n",
    "    \"blocking_rules_to_generate_predictions\": [\n",
    "        brl.exact_match_rule(\"first_name\"),\n",
    "        brl.exact_match_rule(\"surname\"),\n",
    "    ],\n",
    "    \"comparisons\": [\n",
    "        ctl.name_comparison(\"first_name\"),\n",
    "        ctl.name_comparison(\"surname\"),\n",
    "        ctl.date_comparison(\"dob\", cast_strings_to_date=True),\n",
    "        cl.exact_match(\"city\", term_frequency_adjustments=True),\n",
    "        ctl.email_comparison(\"email\", include_username_fuzzy_level=False),\n",
    "    ],\n",
    "}\n",
    "\n",
    "linker = DuckDBLinker(df, settings)\n",
    "linker.estimate_u_using_random_sampling(max_pairs=1e6)\n",
    "\n",
    "blocking_rule_for_training = brl.and_(\n",
    "                            brl.exact_match_rule(\"first_name\"), \n",
    "                            brl.exact_match_rule(\"surname\")\n",
    "                            )\n",
    "\n",
    "linker.estimate_parameters_using_expectation_maximisation(blocking_rule_for_training)\n",
    "\n",
    "blocking_rule_for_training = brl.exact_match_rule(\"dob\")\n",
    "linker.estimate_parameters_using_expectation_maximisation(blocking_rule_for_training)\n",
    "\n",
    "linker.unlinkables_chart()\n"
   ]
  },
  {
   "attachments": {},
   "cell_type": "markdown",
   "metadata": {},
   "source": [
    "### What the chart shows\n"
   ]
  },
  {
   "attachments": {},
   "cell_type": "markdown",
   "metadata": {},
   "source": [
    "### How to interpret the chart\n"
   ]
  },
  {
   "attachments": {},
   "cell_type": "markdown",
   "metadata": {},
   "source": [
    "### Actions to take as a result of the chart\n",
    "\n",
    "There are no direct actions that need to be taken as a result of this chart. It is intended to give the user an indication of the match weights "
   ]
  }
 ],
 "metadata": {
  "kernelspec": {
   "display_name": "base",
   "language": "python",
   "name": "python3"
  },
  "language_info": {
   "codemirror_mode": {
    "name": "ipython",
    "version": 3
   },
   "file_extension": ".py",
   "mimetype": "text/x-python",
   "name": "python",
   "nbconvert_exporter": "python",
   "pygments_lexer": "ipython3",
   "version": "3.9.12"
  },
  "orig_nbformat": 4
 },
 "nbformat": 4,
 "nbformat_minor": 2
}
