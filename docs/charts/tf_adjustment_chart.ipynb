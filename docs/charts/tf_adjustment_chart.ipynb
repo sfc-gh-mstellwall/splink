{
 "cells": [
  {
   "attachments": {},
   "cell_type": "markdown",
   "metadata": {},
   "source": [
    "# `tf_adjustment_chart`\n",
    "\n",
    "!!! info \"At a glance\"\n",
    "    **Useful for:** Looking at the impact of Term Frequency Adjustments on Match Weights.\n",
    "\n",
    "    **API Documentation:** [tf_adjustment_chart()](../linker.md#splink.linker.Linker.tf_adjustment_chart)\n",
    "\n",
    "    **What is needed to generate the chart?:** A trained Splink model, including comparisons with term frequency adjustments."
   ]
  },
  {
   "attachments": {},
   "cell_type": "markdown",
   "metadata": {},
   "source": [
    "## Worked Example"
   ]
  },
  {
   "cell_type": "code",
   "execution_count": 5,
   "metadata": {},
   "outputs": [
    {
     "data": {
      "application/vnd.jupyter.widget-view+json": {
       "model_id": "c283571fa23e4f568845f26d4a2f15af",
       "version_major": 2,
       "version_minor": 0
      },
      "text/plain": [
       "FloatProgress(value=0.0, layout=Layout(width='auto'), style=ProgressStyle(bar_color='black'))"
      ]
     },
     "metadata": {},
     "output_type": "display_data"
    },
    {
     "name": "stderr",
     "output_type": "stream",
     "text": [
      "/Users/rosskennedy/splink/splink/linker.py:3129: UserWarning: Values ['Robert', 'Grace'] from `vals_to_include` were not found in the dataset so are not included in the chart.\n",
      "  return tf_adjustment_chart(\n"
     ]
    },
    {
     "data": {
      "text/html": [
       "\n",
       "<style>\n",
       "  #altair-viz-05041b3c09da40d5bf19b42355d3c617.vega-embed {\n",
       "    width: 100%;\n",
       "    display: flex;\n",
       "  }\n",
       "\n",
       "  #altair-viz-05041b3c09da40d5bf19b42355d3c617.vega-embed details,\n",
       "  #altair-viz-05041b3c09da40d5bf19b42355d3c617.vega-embed details summary {\n",
       "    position: relative;\n",
       "  }\n",
       "</style>\n",
       "<div id=\"altair-viz-05041b3c09da40d5bf19b42355d3c617\"></div>\n",
       "<script type=\"text/javascript\">\n",
       "  var VEGA_DEBUG = (typeof VEGA_DEBUG == \"undefined\") ? {} : VEGA_DEBUG;\n",
       "  (function(spec, embedOpt){\n",
       "    let outputDiv = document.currentScript.previousElementSibling;\n",
       "    if (outputDiv.id !== \"altair-viz-05041b3c09da40d5bf19b42355d3c617\") {\n",
       "      outputDiv = document.getElementById(\"altair-viz-05041b3c09da40d5bf19b42355d3c617\");\n",
       "    }\n",
       "    const paths = {\n",
       "      \"vega\": \"https://cdn.jsdelivr.net/npm/vega@5?noext\",\n",
       "      \"vega-lib\": \"https://cdn.jsdelivr.net/npm/vega-lib?noext\",\n",
       "      \"vega-lite\": \"https://cdn.jsdelivr.net/npm/vega-lite@5.8.0?noext\",\n",
       "      \"vega-embed\": \"https://cdn.jsdelivr.net/npm/vega-embed@6?noext\",\n",
       "    };\n",
       "\n",
       "    function maybeLoadScript(lib, version) {\n",
       "      var key = `${lib.replace(\"-\", \"\")}_version`;\n",
       "      return (VEGA_DEBUG[key] == version) ?\n",
       "        Promise.resolve(paths[lib]) :\n",
       "        new Promise(function(resolve, reject) {\n",
       "          var s = document.createElement('script');\n",
       "          document.getElementsByTagName(\"head\")[0].appendChild(s);\n",
       "          s.async = true;\n",
       "          s.onload = () => {\n",
       "            VEGA_DEBUG[key] = version;\n",
       "            return resolve(paths[lib]);\n",
       "          };\n",
       "          s.onerror = () => reject(`Error loading script: ${paths[lib]}`);\n",
       "          s.src = paths[lib];\n",
       "        });\n",
       "    }\n",
       "\n",
       "    function showError(err) {\n",
       "      outputDiv.innerHTML = `<div class=\"error\" style=\"color:red;\">${err}</div>`;\n",
       "      throw err;\n",
       "    }\n",
       "\n",
       "    function displayChart(vegaEmbed) {\n",
       "      vegaEmbed(outputDiv, spec, embedOpt)\n",
       "        .catch(err => showError(`Javascript Error: ${err.message}<br>This usually means there's a typo in your chart specification. See the javascript console for the full traceback.`));\n",
       "    }\n",
       "\n",
       "    if(typeof define === \"function\" && define.amd) {\n",
       "      requirejs.config({paths});\n",
       "      require([\"vega-embed\"], displayChart, err => showError(`Error loading script: ${err.message}`));\n",
       "    } else {\n",
       "      maybeLoadScript(\"vega\", \"5\")\n",
       "        .then(() => maybeLoadScript(\"vega-lite\", \"5.8.0\"))\n",
       "        .then(() => maybeLoadScript(\"vega-embed\", \"6\"))\n",
       "        .catch(showError)\n",
       "        .then(() => displayChart(vegaEmbed));\n",
       "    }\n",
       "  })({\"config\": {\"view\": {\"continuousWidth\": 300, \"continuousHeight\": 300}, \"params\": [{\"name\": \"gamma_sel\", \"bind\": {\"input\": \"select\", \"options\": [4], \"labels\": [\"Exact match first_name (TF col: first_name)\"], \"name\": \"Gamma level:\"}, \"value\": 4}]}, \"hconcat\": [{\"layer\": [{\"mark\": {\"type\": \"point\", \"filled\": true, \"size\": 100, \"stroke\": \"black\", \"strokeWidth\": 1}, \"encoding\": {\"color\": {\"field\": \"log2_bf_tf\", \"scale\": {\"domain\": [-2.5, 2.5], \"scheme\": \"redyellowgreen\"}, \"title\": \"TF adjustment weight\", \"type\": \"quantitative\"}, \"tooltip\": [{\"field\": \"value\", \"title\": \"Value\", \"type\": \"nominal\"}, {\"field\": \"log2_bf\", \"format\": \"+.3\", \"title\": \"Match weight\", \"type\": \"quantitative\"}, {\"field\": \"log2_bf_tf\", \"format\": \"+.3\", \"title\": \"TF adjusted match weight\", \"type\": \"quantitative\"}, {\"field\": \"log2_bf_final\", \"format\": \"+.3\", \"title\": \"Final match weight\", \"type\": \"quantitative\"}], \"x\": {\"axis\": {\"labelAngle\": -60, \"labelFontSize\": 16, \"titleFontSize\": 20}, \"field\": \"value\", \"sort\": {\"field\": \"log2_bf_final\", \"order\": \"ascending\"}, \"title\": \"TF column value\", \"type\": \"nominal\"}, \"y\": {\"axis\": {\"format\": \"+\", \"labelFontSize\": 16, \"titleFontSize\": 18, \"values\": [-5, -4, -3, -2, -1, 0, 1, 2, 3, 4, 5, 6, 7, 8, 9, 10, 11, 12, 13, 14, 15, 16, 17, 18, 19, 20]}, \"field\": \"log2_bf_final\", \"title\": \"Match weight\", \"type\": \"quantitative\"}}}, {\"mark\": \"rule\", \"encoding\": {\"y\": {\"field\": \"log2_bf\", \"type\": \"quantitative\"}}, \"transform\": [{\"filter\": \"datum.gamma == gamma_sel\"}]}, {\"mark\": {\"type\": \"rule\", \"opacity\": 0.5, \"strokeWidth\": 2}, \"encoding\": {\"color\": {\"field\": \"log2_bf_tf\", \"legend\": null, \"scale\": {\"domain\": [-2.5, 2.5], \"scheme\": \"redyellowgreen\"}, \"title\": \"TF adjustment weight\", \"type\": \"quantitative\"}, \"x\": {\"field\": \"value\", \"sort\": {\"field\": \"log2_bf_final\", \"order\": \"ascending\"}, \"title\": \"TF column value\", \"type\": \"nominal\"}, \"y\": {\"field\": \"log2_bf_final\", \"type\": \"quantitative\"}, \"y2\": {\"type\": \"quantitative\"}}, \"transform\": [{\"filter\": \"datum.gamma == gamma_sel\"}]}], \"data\": {\"name\": \"data\"}, \"height\": 400, \"transform\": [{\"filter\": \"datum.gamma == gamma_sel\"}], \"width\": {\"step\": 20}}, {\"mark\": {\"type\": \"bar\", \"fillOpacity\": 0.8, \"filled\": true, \"stroke\": \"black\", \"strokeWidth\": 1}, \"data\": {\"name\": \"hist\"}, \"encoding\": {\"color\": {\"field\": \"log2_bf_tf\", \"legend\": null, \"scale\": {\"domain\": [-2.5, 2.5], \"scheme\": \"redyellowgreen\"}, \"title\": \"TF adjustment weight\", \"type\": \"quantitative\"}, \"tooltip\": [{\"field\": \"log2_bf_desc\", \"title\": \"Match weight\"}, {\"field\": \"count\", \"title\": \"Number of values\"}], \"x\": {\"axis\": {\"domain\": false, \"gridOpacity\": 0.5, \"labelAlign\": \"center\", \"labelFontSize\": 12, \"labelOpacity\": 0.5, \"labelOverlap\": true, \"ticks\": false, \"title\": \"Count of values\", \"titleFontSize\": 12, \"titleOpacity\": 0.5}, \"field\": \"count\", \"type\": \"quantitative\"}, \"y\": {\"axis\": null, \"bin\": {\"step\": 0.5}, \"field\": \"log2_bf_final\", \"type\": \"quantitative\"}}, \"transform\": [{\"filter\": {\"or\": [\"datum.gamma == gamma_sel\", {\"field\": \"gamma\", \"valid\": false}]}}], \"view\": {\"stroke\": \"transparent\"}, \"width\": 100}], \"datasets\": {\"data\": [{\"value\": \"Lous\", \"tf\": 0.0012033694344163659, \"label_for_charts\": \"Exact match first_name\", \"u_probability\": 0.0057935713975033705, \"tf_col\": \"first_name\", \"tf_adjustment_weight\": 1.0, \"log2_bf\": 6.4013497778245645, \"gamma\": 4, \"log2_bf_tf\": 2.267373341558131, \"log2_bf_final\": 8.668723119382696, \"most_freq_rank\": 334, \"least_freq_rank\": 0}, {\"value\": \"Oliva\", \"tf\": 0.0012033694344163659, \"label_for_charts\": \"Exact match first_name\", \"u_probability\": 0.0057935713975033705, \"tf_col\": \"first_name\", \"tf_adjustment_weight\": 1.0, \"log2_bf\": 6.4013497778245645, \"gamma\": 4, \"log2_bf_tf\": 2.267373341558131, \"log2_bf_final\": 8.668723119382696, \"most_freq_rank\": 333, \"least_freq_rank\": 1}, {\"value\": \"geeorGe\", \"tf\": 0.0012033694344163659, \"label_for_charts\": \"Exact match first_name\", \"u_probability\": 0.0057935713975033705, \"tf_col\": \"first_name\", \"tf_adjustment_weight\": 1.0, \"log2_bf\": 6.4013497778245645, \"gamma\": 4, \"log2_bf_tf\": 2.267373341558131, \"log2_bf_final\": 8.668723119382696, \"most_freq_rank\": 332, \"least_freq_rank\": 2}, {\"value\": \"Olvilia\", \"tf\": 0.0012033694344163659, \"label_for_charts\": \"Exact match first_name\", \"u_probability\": 0.0057935713975033705, \"tf_col\": \"first_name\", \"tf_adjustment_weight\": 1.0, \"log2_bf\": 6.4013497778245645, \"gamma\": 4, \"log2_bf_tf\": 2.267373341558131, \"log2_bf_final\": 8.668723119382696, \"most_freq_rank\": 331, \"least_freq_rank\": 3}, {\"value\": \"Lydiia\", \"tf\": 0.0012033694344163659, \"label_for_charts\": \"Exact match first_name\", \"u_probability\": 0.0057935713975033705, \"tf_col\": \"first_name\", \"tf_adjustment_weight\": 1.0, \"log2_bf\": 6.4013497778245645, \"gamma\": 4, \"log2_bf_tf\": 2.267373341558131, \"log2_bf_final\": 8.668723119382696, \"most_freq_rank\": 330, \"least_freq_rank\": 4}, {\"value\": \"Aielma\", \"tf\": 0.0012033694344163659, \"label_for_charts\": \"Exact match first_name\", \"u_probability\": 0.0057935713975033705, \"tf_col\": \"first_name\", \"tf_adjustment_weight\": 1.0, \"log2_bf\": 6.4013497778245645, \"gamma\": 4, \"log2_bf_tf\": 2.267373341558131, \"log2_bf_final\": 8.668723119382696, \"most_freq_rank\": 329, \"least_freq_rank\": 5}, {\"value\": \"Ameliia\", \"tf\": 0.0012033694344163659, \"label_for_charts\": \"Exact match first_name\", \"u_probability\": 0.0057935713975033705, \"tf_col\": \"first_name\", \"tf_adjustment_weight\": 1.0, \"log2_bf\": 6.4013497778245645, \"gamma\": 4, \"log2_bf_tf\": 2.267373341558131, \"log2_bf_final\": 8.668723119382696, \"most_freq_rank\": 328, \"least_freq_rank\": 6}, {\"value\": \"Kirk\", \"tf\": 0.0012033694344163659, \"label_for_charts\": \"Exact match first_name\", \"u_probability\": 0.0057935713975033705, \"tf_col\": \"first_name\", \"tf_adjustment_weight\": 1.0, \"log2_bf\": 6.4013497778245645, \"gamma\": 4, \"log2_bf_tf\": 2.267373341558131, \"log2_bf_final\": 8.668723119382696, \"most_freq_rank\": 327, \"least_freq_rank\": 7}, {\"value\": \"bJacob\", \"tf\": 0.0012033694344163659, \"label_for_charts\": \"Exact match first_name\", \"u_probability\": 0.0057935713975033705, \"tf_col\": \"first_name\", \"tf_adjustment_weight\": 1.0, \"log2_bf\": 6.4013497778245645, \"gamma\": 4, \"log2_bf_tf\": 2.267373341558131, \"log2_bf_final\": 8.668723119382696, \"most_freq_rank\": 326, \"least_freq_rank\": 8}, {\"value\": \"ilivOa\", \"tf\": 0.0012033694344163659, \"label_for_charts\": \"Exact match first_name\", \"u_probability\": 0.0057935713975033705, \"tf_col\": \"first_name\", \"tf_adjustment_weight\": 1.0, \"log2_bf\": 6.4013497778245645, \"gamma\": 4, \"log2_bf_tf\": 2.267373341558131, \"log2_bf_final\": 8.668723119382696, \"most_freq_rank\": 325, \"least_freq_rank\": 9}, {\"value\": \"Robert\", \"tf\": 0.0036101083032490976, \"label_for_charts\": \"Exact match first_name\", \"u_probability\": 0.0057935713975033705, \"tf_col\": \"first_name\", \"tf_adjustment_weight\": 1.0, \"log2_bf\": 6.4013497778245645, \"gamma\": 4, \"log2_bf_tf\": 0.6824108408369749, \"log2_bf_final\": 7.08376061866154, \"most_freq_rank\": 79, \"least_freq_rank\": 255}, {\"value\": \"Grace\", \"tf\": 0.006016847172081829, \"label_for_charts\": \"Exact match first_name\", \"u_probability\": 0.0057935713975033705, \"tf_col\": \"first_name\", \"tf_adjustment_weight\": 1.0, \"log2_bf\": 6.4013497778245645, \"gamma\": 4, \"log2_bf_tf\": -0.05455475332923131, \"log2_bf_final\": 6.346795024495333, \"most_freq_rank\": 44, \"least_freq_rank\": 290}, {\"value\": \"Logan\", \"tf\": 0.012033694344163659, \"label_for_charts\": \"Exact match first_name\", \"u_probability\": 0.0057935713975033705, \"tf_col\": \"first_name\", \"tf_adjustment_weight\": 1.0, \"log2_bf\": 6.4013497778245645, \"gamma\": 4, \"log2_bf_tf\": -1.0545547533292312, \"log2_bf_final\": 5.346795024495333, \"most_freq_rank\": 9, \"least_freq_rank\": 325}, {\"value\": \"Elizabeth\", \"tf\": 0.013237063778580024, \"label_for_charts\": \"Exact match first_name\", \"u_probability\": 0.0057935713975033705, \"tf_col\": \"first_name\", \"tf_adjustment_weight\": 1.0, \"log2_bf\": 6.4013497778245645, \"gamma\": 4, \"log2_bf_tf\": -1.1920582770791661, \"log2_bf_final\": 5.209291500745398, \"most_freq_rank\": 8, \"least_freq_rank\": 326}, {\"value\": \"Alfie\", \"tf\": 0.013237063778580024, \"label_for_charts\": \"Exact match first_name\", \"u_probability\": 0.0057935713975033705, \"tf_col\": \"first_name\", \"tf_adjustment_weight\": 1.0, \"log2_bf\": 6.4013497778245645, \"gamma\": 4, \"log2_bf_tf\": -1.1920582770791661, \"log2_bf_final\": 5.209291500745398, \"most_freq_rank\": 7, \"least_freq_rank\": 327}, {\"value\": \"Jessica\", \"tf\": 0.013237063778580024, \"label_for_charts\": \"Exact match first_name\", \"u_probability\": 0.0057935713975033705, \"tf_col\": \"first_name\", \"tf_adjustment_weight\": 1.0, \"log2_bf\": 6.4013497778245645, \"gamma\": 4, \"log2_bf_tf\": -1.1920582770791661, \"log2_bf_final\": 5.209291500745398, \"most_freq_rank\": 6, \"least_freq_rank\": 328}, {\"value\": \"George\", \"tf\": 0.01444043321299639, \"label_for_charts\": \"Exact match first_name\", \"u_probability\": 0.0057935713975033705, \"tf_col\": \"first_name\", \"tf_adjustment_weight\": 1.0, \"log2_bf\": 6.4013497778245645, \"gamma\": 4, \"log2_bf_tf\": -1.317589159163025, \"log2_bf_final\": 5.08376061866154, \"most_freq_rank\": 5, \"least_freq_rank\": 329}, {\"value\": \"James\", \"tf\": 0.015643802647412757, \"label_for_charts\": \"Exact match first_name\", \"u_probability\": 0.0057935713975033705, \"tf_col\": \"first_name\", \"tf_adjustment_weight\": 1.0, \"log2_bf\": 6.4013497778245645, \"gamma\": 4, \"log2_bf_tf\": -1.4330663765829612, \"log2_bf_final\": 4.968283401241603, \"most_freq_rank\": 4, \"least_freq_rank\": 330}, {\"value\": \"Olivia\", \"tf\": 0.01684717208182912, \"label_for_charts\": \"Exact match first_name\", \"u_probability\": 0.0057935713975033705, \"tf_col\": \"first_name\", \"tf_adjustment_weight\": 1.0, \"log2_bf\": 6.4013497778245645, \"gamma\": 4, \"log2_bf_tf\": -1.539981580499473, \"log2_bf_final\": 4.861368197325092, \"most_freq_rank\": 3, \"least_freq_rank\": 331}, {\"value\": \"Freddie\", \"tf\": 0.018050541516245487, \"label_for_charts\": \"Exact match first_name\", \"u_probability\": 0.0057935713975033705, \"tf_col\": \"first_name\", \"tf_adjustment_weight\": 1.0, \"log2_bf\": 6.4013497778245645, \"gamma\": 4, \"log2_bf_tf\": -1.6395172540503875, \"log2_bf_final\": 4.761832523774177, \"most_freq_rank\": 2, \"least_freq_rank\": 332}, {\"value\": \"Jacob\", \"tf\": 0.019253910950661854, \"label_for_charts\": \"Exact match first_name\", \"u_probability\": 0.0057935713975033705, \"tf_col\": \"first_name\", \"tf_adjustment_weight\": 1.0, \"log2_bf\": 6.4013497778245645, \"gamma\": 4, \"log2_bf_tf\": -1.7326266584418688, \"log2_bf_final\": 4.668723119382696, \"most_freq_rank\": 1, \"least_freq_rank\": 333}, {\"value\": \"Oliver\", \"tf\": 0.03369434416365824, \"label_for_charts\": \"Exact match first_name\", \"u_probability\": 0.0057935713975033705, \"tf_col\": \"first_name\", \"tf_adjustment_weight\": 1.0, \"log2_bf\": 6.4013497778245645, \"gamma\": 4, \"log2_bf_tf\": -2.539981580499473, \"log2_bf_final\": 3.8613681973250915, \"most_freq_rank\": 0, \"least_freq_rank\": 334}], \"hist\": [{\"gamma\": 4, \"log2_bf\": 6.4013497778245645, \"count\": 1, \"log2_bf_tf\": -2.539981580499473, \"bin_start\": 3.5, \"bin_end\": 4.0, \"log2_bf_final\": 3.75, \"log2_bf_desc\": \"3.5-4.0\"}, {\"gamma\": 4, \"log2_bf\": 6.4013497778245645, \"count\": 4, \"log2_bf_tf\": -1.5862979673936726, \"bin_start\": 4.5, \"bin_end\": 5.0, \"log2_bf_final\": 4.75, \"log2_bf_desc\": \"4.5-5.0\"}, {\"gamma\": 4, \"log2_bf\": 6.4013497778245645, \"count\": 11, \"log2_bf_tf\": -1.0468756178618082, \"bin_start\": 5.0, \"bin_end\": 5.5, \"log2_bf_final\": 5.25, \"log2_bf_desc\": \"5.0-5.5\"}, {\"gamma\": 4, \"log2_bf\": 6.4013497778245645, \"count\": 7, \"log2_bf_tf\": -0.6225437567604998, \"bin_start\": 5.5, \"bin_end\": 6.0, \"log2_bf_final\": 5.75, \"log2_bf_desc\": \"5.5-6.0\"}, {\"gamma\": 4, \"log2_bf\": 6.4013497778245645, \"count\": 25, \"log2_bf_tf\": -0.15976851566274886, \"bin_start\": 6.0, \"bin_end\": 6.5, \"log2_bf_final\": 6.25, \"log2_bf_desc\": \"6.0-6.5\"}, {\"gamma\": 4, \"log2_bf\": 6.4013497778245645, \"count\": 24, \"log2_bf_tf\": 0.2673733415581312, \"bin_start\": 6.5, \"bin_end\": 7.0, \"log2_bf_final\": 6.75, \"log2_bf_desc\": \"6.5-7.0\"}, {\"gamma\": 4, \"log2_bf\": 6.4013497778245645, \"count\": 24, \"log2_bf_tf\": 0.6824108408369748, \"bin_start\": 7.0, \"bin_end\": 7.5, \"log2_bf_final\": 7.25, \"log2_bf_desc\": \"7.0-7.5\"}, {\"gamma\": 4, \"log2_bf\": 6.4013497778245645, \"count\": 41, \"log2_bf_tf\": 1.2673733415581312, \"bin_start\": 7.5, \"bin_end\": 8.0, \"log2_bf_final\": 7.75, \"log2_bf_desc\": \"7.5-8.0\"}, {\"gamma\": 4, \"log2_bf\": 6.4013497778245645, \"count\": 198, \"log2_bf_tf\": 2.267373341558131, \"bin_start\": 8.5, \"bin_end\": 9.0, \"log2_bf_final\": 8.75, \"log2_bf_desc\": \"8.5-9.0\"}]}, \"resolve\": {\"scale\": {\"color\": \"shared\", \"y\": \"shared\"}}, \"spacing\": 10, \"title\": {\"text\": \"Term frequency adjusted match weights\", \"anchor\": \"middle\", \"fontSize\": 16, \"subtitle\": \"For selected values, incl. the lowest and highest frequency\"}, \"$schema\": \"https://vega.github.io/schema/vega-lite/v5.9.3.json\"}, {\"mode\": \"vega-lite\"});\n",
       "</script>"
      ],
      "text/plain": [
       "alt.HConcatChart(...)"
      ]
     },
     "execution_count": 5,
     "metadata": {},
     "output_type": "execute_result"
    }
   ],
   "source": [
    "from splink.duckdb.linker import DuckDBLinker\n",
    "import splink.duckdb.comparison_library as cl\n",
    "import splink.duckdb.comparison_template_library as ctl\n",
    "import splink.duckdb.blocking_rule_library as brl\n",
    "from splink.datasets import splink_datasets\n",
    "import logging, sys\n",
    "logging.disable(sys.maxsize)\n",
    "\n",
    "df = splink_datasets.fake_1000\n",
    "\n",
    "settings = {\n",
    "    \"link_type\": \"dedupe_only\",\n",
    "    \"blocking_rules_to_generate_predictions\": [\n",
    "        brl.exact_match_rule(\"first_name\"),\n",
    "        brl.exact_match_rule(\"surname\"),\n",
    "    ],\n",
    "    \"comparisons\": [\n",
    "        ctl.name_comparison(\"first_name\", term_frequency_adjustments = True),\n",
    "        ctl.name_comparison(\"surname\"),\n",
    "        ctl.date_comparison(\"dob\", cast_strings_to_date=True),\n",
    "        cl.exact_match(\"city\", term_frequency_adjustments=True),\n",
    "        ctl.email_comparison(\"email\", include_username_fuzzy_level=False),\n",
    "    ],\n",
    "}\n",
    "\n",
    "linker = DuckDBLinker(df, settings)\n",
    "linker.estimate_u_using_random_sampling(max_pairs=1e6)\n",
    "\n",
    "blocking_rule_for_training = brl.and_(\n",
    "                            brl.exact_match_rule(\"first_name\"), \n",
    "                            brl.exact_match_rule(\"surname\")\n",
    "                            )\n",
    "\n",
    "linker.estimate_parameters_using_expectation_maximisation(blocking_rule_for_training)\n",
    "\n",
    "blocking_rule_for_training = brl.exact_match_rule(\"dob\")\n",
    "linker.estimate_parameters_using_expectation_maximisation(blocking_rule_for_training)\n",
    "\n",
    "linker.tf_adjustment_chart(\"first_name\", vals_to_include = [\"Robert\", \"Grace\"])\n"
   ]
  },
  {
   "attachments": {},
   "cell_type": "markdown",
   "metadata": {},
   "source": [
    "### What the chart shows\n",
    "\n",
    "The `tf_adjustment_chart` shows the impact of Term Frequency Adjustments on the Match Weight of a comparison. It is made up of two charts for each selected comparison:\n",
    "\n",
    "- The left chart shows the match weight for two records with a matching `first_name` including a term frequency adjustment. The black horizontal line represents the base match weight (i.e. with no term frequency adjustment applied). By default this chart contains the 10 most frequent and 10 least frequent values in a comparison as well as any values assigned in the `vals_to_include` parameter.\n",
    "- The right chart shows the distribution of match weights across all of the values of `first_name`."
   ]
  },
  {
   "attachments": {},
   "cell_type": "markdown",
   "metadata": {},
   "source": [
    "??? note \"What the tooltip shows\"\n",
    "\n",
    "    #### Left chart\n",
    "\n",
    "    ![](./img/tf_adjustment_chart_tooltip_1.png)\n",
    "\n",
    "    The tooltip shows a number of statistics based on the column value of the point theat the user is hovering over, including:\n",
    "\n",
    "    - The column value\n",
    "    - The base match weight (i.e. with no term frequency adjustment) for a match on the column.\n",
    "    - The term frequency adjustment for the column value.\n",
    "    - The final match weight (i.e. the combined base match weight and term frequency adjustment)\n",
    "\n",
    "    #### Right chart\n",
    "\n",
    "    ![](./img/tf_adjustment_chart_tooltip_2.png)\n",
    "\n",
    "    The tooltip shows a number of statistics based on the bar that the user is hovering over, including:\n",
    "\n",
    "    - The final match weight bucket (in steps of 0.5).\n",
    "    - The number of records with a final match weight in the final match weight bucket."
   ]
  },
  {
   "attachments": {},
   "cell_type": "markdown",
   "metadata": {},
   "source": [
    "<hr>"
   ]
  },
  {
   "attachments": {},
   "cell_type": "markdown",
   "metadata": {},
   "source": [
    "### How to interpret the chart\n",
    "\n",
    "The most common terms (on the left of the first chart) will have a negative term frequency adjustment and the values on the chart and represent the lowest match weight for a match for the selected comparison. Conversely, the least common terms (on the right of the first chart) will have a positive term frequency adjustment and the values on the chart represent the highest match weight for a match for the selected comparison.\n",
    "\n",
    "Given that the first chart only shows the most and least frequently occuring values, the second chart is provided to show the distribution of final match weights (including term frequency adjustments) across all values in the dataset."
   ]
  },
  {
   "attachments": {},
   "cell_type": "markdown",
   "metadata": {},
   "source": [
    "<hr>"
   ]
  },
  {
   "attachments": {},
   "cell_type": "markdown",
   "metadata": {},
   "source": [
    "### Actions to take as a result of the chart\n",
    "\n",
    "There are no direct actions that need to be taken as a result of this chart. It is intended to give the user an indication of the size of the impact of Term Frequency Adjustments on comparisons, as seen in the Waterfall Chart."
   ]
  }
 ],
 "metadata": {
  "kernelspec": {
   "display_name": "base",
   "language": "python",
   "name": "python3"
  },
  "language_info": {
   "codemirror_mode": {
    "name": "ipython",
    "version": 3
   },
   "file_extension": ".py",
   "mimetype": "text/x-python",
   "name": "python",
   "nbconvert_exporter": "python",
   "pygments_lexer": "ipython3",
   "version": "3.9.12"
  },
  "orig_nbformat": 4
 },
 "nbformat": 4,
 "nbformat_minor": 2
}
