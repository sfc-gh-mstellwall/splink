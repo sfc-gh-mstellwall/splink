{
 "cells": [
  {
   "attachments": {},
   "cell_type": "markdown",
   "metadata": {},
   "source": [
    "!!! warning \"Work in Progress\"\n",
    "    This page is currently under construction. \n",
    "\n",
    "# `parameter_estimate_comparisons_chart`\n",
    "\n",
    "!!! info \"At a glance\"\n",
    "    **Useful for:** \n",
    "\n",
    "    **API Documentation:** [parameter_estimate_comparisons_chart()](../linker.md#splink.linker.Linker.parameter_estimate_comparisons_chart)\n",
    "\n",
    "    **What is needed to generate the chart?** "
   ]
  },
  {
   "attachments": {},
   "cell_type": "markdown",
   "metadata": {},
   "source": [
    "## Worked Example"
   ]
  },
  {
   "cell_type": "code",
   "execution_count": 3,
   "metadata": {},
   "outputs": [
    {
     "data": {
      "application/vnd.jupyter.widget-view+json": {
       "model_id": "deb11a10086a42f8ab1bfb97eb2da97d",
       "version_major": 2,
       "version_minor": 0
      },
      "text/plain": [
       "FloatProgress(value=0.0, layout=Layout(width='auto'), style=ProgressStyle(bar_color='black'))"
      ]
     },
     "metadata": {},
     "output_type": "display_data"
    },
    {
     "data": {
      "text/html": [
       "\n",
       "<style>\n",
       "  #altair-viz-8f585d81d16645518ce93f6c49f4dc39.vega-embed {\n",
       "    width: 100%;\n",
       "    display: flex;\n",
       "  }\n",
       "\n",
       "  #altair-viz-8f585d81d16645518ce93f6c49f4dc39.vega-embed details,\n",
       "  #altair-viz-8f585d81d16645518ce93f6c49f4dc39.vega-embed details summary {\n",
       "    position: relative;\n",
       "  }\n",
       "</style>\n",
       "<div id=\"altair-viz-8f585d81d16645518ce93f6c49f4dc39\"></div>\n",
       "<script type=\"text/javascript\">\n",
       "  var VEGA_DEBUG = (typeof VEGA_DEBUG == \"undefined\") ? {} : VEGA_DEBUG;\n",
       "  (function(spec, embedOpt){\n",
       "    let outputDiv = document.currentScript.previousElementSibling;\n",
       "    if (outputDiv.id !== \"altair-viz-8f585d81d16645518ce93f6c49f4dc39\") {\n",
       "      outputDiv = document.getElementById(\"altair-viz-8f585d81d16645518ce93f6c49f4dc39\");\n",
       "    }\n",
       "    const paths = {\n",
       "      \"vega\": \"https://cdn.jsdelivr.net/npm/vega@5?noext\",\n",
       "      \"vega-lib\": \"https://cdn.jsdelivr.net/npm/vega-lib?noext\",\n",
       "      \"vega-lite\": \"https://cdn.jsdelivr.net/npm/vega-lite@5.8.0?noext\",\n",
       "      \"vega-embed\": \"https://cdn.jsdelivr.net/npm/vega-embed@6?noext\",\n",
       "    };\n",
       "\n",
       "    function maybeLoadScript(lib, version) {\n",
       "      var key = `${lib.replace(\"-\", \"\")}_version`;\n",
       "      return (VEGA_DEBUG[key] == version) ?\n",
       "        Promise.resolve(paths[lib]) :\n",
       "        new Promise(function(resolve, reject) {\n",
       "          var s = document.createElement('script');\n",
       "          document.getElementsByTagName(\"head\")[0].appendChild(s);\n",
       "          s.async = true;\n",
       "          s.onload = () => {\n",
       "            VEGA_DEBUG[key] = version;\n",
       "            return resolve(paths[lib]);\n",
       "          };\n",
       "          s.onerror = () => reject(`Error loading script: ${paths[lib]}`);\n",
       "          s.src = paths[lib];\n",
       "        });\n",
       "    }\n",
       "\n",
       "    function showError(err) {\n",
       "      outputDiv.innerHTML = `<div class=\"error\" style=\"color:red;\">${err}</div>`;\n",
       "      throw err;\n",
       "    }\n",
       "\n",
       "    function displayChart(vegaEmbed) {\n",
       "      vegaEmbed(outputDiv, spec, embedOpt)\n",
       "        .catch(err => showError(`Javascript Error: ${err.message}<br>This usually means there's a typo in your chart specification. See the javascript console for the full traceback.`));\n",
       "    }\n",
       "\n",
       "    if(typeof define === \"function\" && define.amd) {\n",
       "      requirejs.config({paths});\n",
       "      require([\"vega-embed\"], displayChart, err => showError(`Error loading script: ${err.message}`));\n",
       "    } else {\n",
       "      maybeLoadScript(\"vega\", \"5\")\n",
       "        .then(() => maybeLoadScript(\"vega-lite\", \"5.8.0\"))\n",
       "        .then(() => maybeLoadScript(\"vega-embed\", \"6\"))\n",
       "        .catch(showError)\n",
       "        .then(() => displayChart(vegaEmbed));\n",
       "    }\n",
       "  })({\"config\": {\"view\": {\"continuousWidth\": 400, \"continuousHeight\": 300}, \"title\": {\"anchor\": \"middle\", \"fontSize\": 18, \"subtitleFontSize\": 14}}, \"data\": {\"name\": \"data-d45f4518c132599820e2f4281b06e6c6\"}, \"mark\": {\"type\": \"point\", \"filled\": false, \"opacity\": 0.7, \"size\": 100}, \"encoding\": {\"color\": {\"field\": \"estimate_description\", \"type\": \"nominal\"}, \"column\": {\"align\": \"each\", \"field\": \"col_header\", \"header\": {\"labelFontSize\": 14, \"labelFontWeight\": \"bold\"}, \"title\": null, \"type\": \"nominal\"}, \"row\": {\"align\": \"each\", \"field\": \"comparison_name\", \"header\": {\"labelAlign\": \"left\", \"labelAnchor\": \"middle\", \"labelAngle\": 0, \"labelFontSize\": 12, \"labelFontWeight\": \"bold\"}, \"sort\": {\"field\": \"comparison_sort_order\"}, \"title\": null, \"type\": \"nominal\"}, \"shape\": {\"field\": \"estimate_description\", \"scale\": {\"range\": [\"circle\", \"square\", \"triangle\", \"diamond\"]}, \"type\": \"nominal\"}, \"tooltip\": [{\"field\": \"comparison_name\", \"type\": \"nominal\"}, {\"field\": \"estimate_description\", \"type\": \"nominal\"}, {\"field\": \"estimated_probability\", \"type\": \"quantitative\"}], \"x\": {\"axis\": {\"gridColor\": {\"condition\": {\"test\": \"abs(datum.value / 10)  <= 1 & datum.value % 10 === 0\", \"value\": \"#aaa\"}, \"value\": \"#ddd\"}, \"gridDash\": {\"condition\": {\"test\": \"abs(datum.value / 10) == 1\", \"value\": [3]}, \"value\": null}, \"gridWidth\": {\"condition\": {\"test\": \"abs(datum.value / 10)  <= 1 & datum.value % 10 === 0\", \"value\": 2}, \"value\": 1}}, \"field\": \"estimated_probability_as_log_odds\", \"title\": \"Estimated probability as log odds\", \"type\": \"quantitative\"}, \"y\": {\"axis\": {\"grid\": true, \"title\": null}, \"field\": \"comparison_level_label\", \"sort\": {\"field\": \"comparison_vector_value\", \"order\": \"descending\"}, \"type\": \"nominal\"}}, \"params\": [{\"name\": \"mouse_zoom\", \"select\": {\"type\": \"interval\", \"encodings\": [\"x\"]}, \"bind\": \"scales\"}], \"resolve\": {\"scale\": {\"y\": \"independent\"}}, \"title\": {\"text\": \"Comparison of parameter estimates across training sessions\", \"subtitle\": \"Use mousewheel to zoom\"}, \"transform\": [{\"calculate\": \"datum.m_or_u + '-probability (as log odds)'\", \"as\": \"col_header\"}], \"$schema\": \"https://vega.github.io/schema/vega-lite/v5.9.3.json\", \"datasets\": {\"data-d45f4518c132599820e2f4281b06e6c6\": [{\"m_or_u\": \"u\", \"estimated_probability\": 0.0057935713975033705, \"estimate_description\": \"estimate u by random sampling\", \"estimated_probability_as_log_odds\": -7.422948662194144, \"sql_condition\": \"\\\"first_name_l\\\" = \\\"first_name_r\\\"\", \"comparison_level_label\": \"Exact match first_name\", \"comparison_vector_value\": 4, \"comparison_name\": \"first_name\", \"comparison_sort_order\": 0}, {\"m_or_u\": \"m\", \"estimated_probability\": 0.4897187166160287, \"estimate_description\": \"EM, blocked on: l.\\\"dob\\\" = r.\\\"dob\\\"\", \"estimated_probability_as_log_odds\": -0.05933939042821643, \"sql_condition\": \"\\\"first_name_l\\\" = \\\"first_name_r\\\"\", \"comparison_level_label\": \"Exact match first_name\", \"comparison_vector_value\": 4, \"comparison_name\": \"first_name\", \"comparison_sort_order\": 0}, {\"m_or_u\": \"m\", \"estimated_probability\": 0.5018725354246503, \"estimate_description\": \"EM, blocked on: l.\\\"email\\\" = r.\\\"email\\\"\", \"estimated_probability_as_log_odds\": 0.010806040804558766, \"sql_condition\": \"\\\"first_name_l\\\" = \\\"first_name_r\\\"\", \"comparison_level_label\": \"Exact match first_name\", \"comparison_vector_value\": 4, \"comparison_name\": \"first_name\", \"comparison_sort_order\": 0}, {\"m_or_u\": \"u\", \"estimated_probability\": 0.00236614327345483, \"estimate_description\": \"estimate u by random sampling\", \"estimated_probability_as_log_odds\": -8.719829182923874, \"sql_condition\": \"damerau_levenshtein(\\\"first_name_l\\\", \\\"first_name_r\\\") <= 1\", \"comparison_level_label\": \"Damerau_levenshtein <= 1\", \"comparison_vector_value\": 3, \"comparison_name\": \"first_name\", \"comparison_sort_order\": 0}, {\"m_or_u\": \"m\", \"estimated_probability\": 0.1746348430810225, \"estimate_description\": \"EM, blocked on: l.\\\"dob\\\" = r.\\\"dob\\\"\", \"estimated_probability_as_log_odds\": -2.2406911020689595, \"sql_condition\": \"damerau_levenshtein(\\\"first_name_l\\\", \\\"first_name_r\\\") <= 1\", \"comparison_level_label\": \"Damerau_levenshtein <= 1\", \"comparison_vector_value\": 3, \"comparison_name\": \"first_name\", \"comparison_sort_order\": 0}, {\"m_or_u\": \"m\", \"estimated_probability\": 0.1959494679629184, \"estimate_description\": \"EM, blocked on: l.\\\"email\\\" = r.\\\"email\\\"\", \"estimated_probability_as_log_odds\": -2.0368045173052938, \"sql_condition\": \"damerau_levenshtein(\\\"first_name_l\\\", \\\"first_name_r\\\") <= 1\", \"comparison_level_label\": \"Damerau_levenshtein <= 1\", \"comparison_vector_value\": 3, \"comparison_name\": \"first_name\", \"comparison_sort_order\": 0}, {\"m_or_u\": \"u\", \"estimated_probability\": 0.001296159366708712, \"estimate_description\": \"estimate u by random sampling\", \"estimated_probability_as_log_odds\": -9.589669996197717, \"sql_condition\": \"jaro_winkler_similarity(\\\"first_name_l\\\", \\\"first_name_r\\\") >= 0.9\", \"comparison_level_label\": \"Jaro_winkler_similarity >= 0.9\", \"comparison_vector_value\": 2, \"comparison_name\": \"first_name\", \"comparison_sort_order\": 0}, {\"m_or_u\": \"m\", \"estimated_probability\": 0.027002971204894182, \"estimate_description\": \"EM, blocked on: l.\\\"dob\\\" = r.\\\"dob\\\"\", \"estimated_probability_as_log_odds\": -5.171245335019057, \"sql_condition\": \"jaro_winkler_similarity(\\\"first_name_l\\\", \\\"first_name_r\\\") >= 0.9\", \"comparison_level_label\": \"Jaro_winkler_similarity >= 0.9\", \"comparison_vector_value\": 2, \"comparison_name\": \"first_name\", \"comparison_sort_order\": 0}, {\"m_or_u\": \"m\", \"estimated_probability\": 0.045983355045963945, \"estimate_description\": \"EM, blocked on: l.\\\"email\\\" = r.\\\"email\\\"\", \"estimated_probability_as_log_odds\": -4.3748308003034335, \"sql_condition\": \"jaro_winkler_similarity(\\\"first_name_l\\\", \\\"first_name_r\\\") >= 0.9\", \"comparison_level_label\": \"Jaro_winkler_similarity >= 0.9\", \"comparison_vector_value\": 2, \"comparison_name\": \"first_name\", \"comparison_sort_order\": 0}, {\"m_or_u\": \"u\", \"estimated_probability\": 0.005677583982137938, \"estimate_description\": \"estimate u by random sampling\", \"estimated_probability_as_log_odds\": -7.45229278014839, \"sql_condition\": \"jaro_winkler_similarity(\\\"first_name_l\\\", \\\"first_name_r\\\") >= 0.8\", \"comparison_level_label\": \"Jaro_winkler_similarity >= 0.8\", \"comparison_vector_value\": 1, \"comparison_name\": \"first_name\", \"comparison_sort_order\": 0}, {\"m_or_u\": \"m\", \"estimated_probability\": 0.07550170281130285, \"estimate_description\": \"EM, blocked on: l.\\\"dob\\\" = r.\\\"dob\\\"\", \"estimated_probability_as_log_odds\": -3.614089574938995, \"sql_condition\": \"jaro_winkler_similarity(\\\"first_name_l\\\", \\\"first_name_r\\\") >= 0.8\", \"comparison_level_label\": \"Jaro_winkler_similarity >= 0.8\", \"comparison_vector_value\": 1, \"comparison_name\": \"first_name\", \"comparison_sort_order\": 0}, {\"m_or_u\": \"m\", \"estimated_probability\": 0.06396467982631736, \"estimate_description\": \"EM, blocked on: l.\\\"email\\\" = r.\\\"email\\\"\", \"estimated_probability_as_log_odds\": -3.871215570004825, \"sql_condition\": \"jaro_winkler_similarity(\\\"first_name_l\\\", \\\"first_name_r\\\") >= 0.8\", \"comparison_level_label\": \"Jaro_winkler_similarity >= 0.8\", \"comparison_vector_value\": 1, \"comparison_name\": \"first_name\", \"comparison_sort_order\": 0}, {\"m_or_u\": \"u\", \"estimated_probability\": 0.9848665419801952, \"estimate_description\": \"estimate u by random sampling\", \"estimated_probability_as_log_odds\": 6.024114651529602, \"sql_condition\": \"ELSE\", \"comparison_level_label\": \"All other comparisons\", \"comparison_vector_value\": 0, \"comparison_name\": \"first_name\", \"comparison_sort_order\": 0}, {\"m_or_u\": \"m\", \"estimated_probability\": 0.23314176628675162, \"estimate_description\": \"EM, blocked on: l.\\\"dob\\\" = r.\\\"dob\\\"\", \"estimated_probability_as_log_odds\": -1.7177524167306641, \"sql_condition\": \"ELSE\", \"comparison_level_label\": \"All other comparisons\", \"comparison_vector_value\": 0, \"comparison_name\": \"first_name\", \"comparison_sort_order\": 0}, {\"m_or_u\": \"m\", \"estimated_probability\": 0.19222996174015, \"estimate_description\": \"EM, blocked on: l.\\\"email\\\" = r.\\\"email\\\"\", \"estimated_probability_as_log_odds\": -2.071111416779064, \"sql_condition\": \"ELSE\", \"comparison_level_label\": \"All other comparisons\", \"comparison_vector_value\": 0, \"comparison_name\": \"first_name\", \"comparison_sort_order\": 0}, {\"m_or_u\": \"u\", \"estimated_probability\": 0.004889975550122249, \"estimate_description\": \"estimate u by random sampling\", \"estimated_probability_as_log_odds\": -7.668884984266247, \"sql_condition\": \"\\\"surname_l\\\" = \\\"surname_r\\\"\", \"comparison_level_label\": \"Exact match surname\", \"comparison_vector_value\": 4, \"comparison_name\": \"surname\", \"comparison_sort_order\": 1}, {\"m_or_u\": \"m\", \"estimated_probability\": 0.43315425096031285, \"estimate_description\": \"EM, blocked on: l.\\\"dob\\\" = r.\\\"dob\\\"\", \"estimated_probability_as_log_odds\": -0.3880753242063869, \"sql_condition\": \"\\\"surname_l\\\" = \\\"surname_r\\\"\", \"comparison_level_label\": \"Exact match surname\", \"comparison_vector_value\": 4, \"comparison_name\": \"surname\", \"comparison_sort_order\": 1}, {\"m_or_u\": \"m\", \"estimated_probability\": 0.47332197605744686, \"estimate_description\": \"EM, blocked on: l.\\\"email\\\" = r.\\\"email\\\"\", \"estimated_probability_as_log_odds\": -0.15409935605233546, \"sql_condition\": \"\\\"surname_l\\\" = \\\"surname_r\\\"\", \"comparison_level_label\": \"Exact match surname\", \"comparison_vector_value\": 4, \"comparison_name\": \"surname\", \"comparison_sort_order\": 1}, {\"m_or_u\": \"u\", \"estimated_probability\": 0.0027554624131641246, \"estimate_description\": \"estimate u by random sampling\", \"estimated_probability_as_log_odds\": -8.499509058012633, \"sql_condition\": \"damerau_levenshtein(\\\"surname_l\\\", \\\"surname_r\\\") <= 1\", \"comparison_level_label\": \"Damerau_levenshtein <= 1\", \"comparison_vector_value\": 3, \"comparison_name\": \"surname\", \"comparison_sort_order\": 1}, {\"m_or_u\": \"m\", \"estimated_probability\": 0.21568732461410225, \"estimate_description\": \"EM, blocked on: l.\\\"dob\\\" = r.\\\"dob\\\"\", \"estimated_probability_as_log_odds\": -1.8624875206666307, \"sql_condition\": \"damerau_levenshtein(\\\"surname_l\\\", \\\"surname_r\\\") <= 1\", \"comparison_level_label\": \"Damerau_levenshtein <= 1\", \"comparison_vector_value\": 3, \"comparison_name\": \"surname\", \"comparison_sort_order\": 1}, {\"m_or_u\": \"m\", \"estimated_probability\": 0.22339066443265443, \"estimate_description\": \"EM, blocked on: l.\\\"email\\\" = r.\\\"email\\\"\", \"estimated_probability_as_log_odds\": -1.7976201534947764, \"sql_condition\": \"damerau_levenshtein(\\\"surname_l\\\", \\\"surname_r\\\") <= 1\", \"comparison_level_label\": \"Damerau_levenshtein <= 1\", \"comparison_vector_value\": 3, \"comparison_name\": \"surname\", \"comparison_sort_order\": 1}, {\"m_or_u\": \"u\", \"estimated_probability\": 0.0010090425738347498, \"estimate_description\": \"estimate u by random sampling\", \"estimated_probability_as_log_odds\": -9.95134076263664, \"sql_condition\": \"jaro_winkler_similarity(\\\"surname_l\\\", \\\"surname_r\\\") >= 0.9\", \"comparison_level_label\": \"Jaro_winkler_similarity >= 0.9\", \"comparison_vector_value\": 2, \"comparison_name\": \"surname\", \"comparison_sort_order\": 1}, {\"m_or_u\": \"m\", \"estimated_probability\": 0.05126543051134095, \"estimate_description\": \"EM, blocked on: l.\\\"dob\\\" = r.\\\"dob\\\"\", \"estimated_probability_as_log_odds\": -4.209946300764676, \"sql_condition\": \"jaro_winkler_similarity(\\\"surname_l\\\", \\\"surname_r\\\") >= 0.9\", \"comparison_level_label\": \"Jaro_winkler_similarity >= 0.9\", \"comparison_vector_value\": 2, \"comparison_name\": \"surname\", \"comparison_sort_order\": 1}, {\"m_or_u\": \"m\", \"estimated_probability\": 0.04423617821257758, \"estimate_description\": \"EM, blocked on: l.\\\"email\\\" = r.\\\"email\\\"\", \"estimated_probability_as_log_odds\": -4.433355504418974, \"sql_condition\": \"jaro_winkler_similarity(\\\"surname_l\\\", \\\"surname_r\\\") >= 0.9\", \"comparison_level_label\": \"Jaro_winkler_similarity >= 0.9\", \"comparison_vector_value\": 2, \"comparison_name\": \"surname\", \"comparison_sort_order\": 1}, {\"m_or_u\": \"u\", \"estimated_probability\": 0.003710768991942586, \"estimate_description\": \"estimate u by random sampling\", \"estimated_probability_as_log_odds\": -8.068702628051081, \"sql_condition\": \"jaro_winkler_similarity(\\\"surname_l\\\", \\\"surname_r\\\") >= 0.8\", \"comparison_level_label\": \"Jaro_winkler_similarity >= 0.8\", \"comparison_vector_value\": 1, \"comparison_name\": \"surname\", \"comparison_sort_order\": 1}, {\"m_or_u\": \"m\", \"estimated_probability\": 0.06532802948505312, \"estimate_description\": \"EM, blocked on: l.\\\"dob\\\" = r.\\\"dob\\\"\", \"estimated_probability_as_log_odds\": -3.838686101259263, \"sql_condition\": \"jaro_winkler_similarity(\\\"surname_l\\\", \\\"surname_r\\\") >= 0.8\", \"comparison_level_label\": \"Jaro_winkler_similarity >= 0.8\", \"comparison_vector_value\": 1, \"comparison_name\": \"surname\", \"comparison_sort_order\": 1}, {\"m_or_u\": \"m\", \"estimated_probability\": 0.044233750367637624, \"estimate_description\": \"EM, blocked on: l.\\\"email\\\" = r.\\\"email\\\"\", \"estimated_probability_as_log_odds\": -4.43343835177733, \"sql_condition\": \"jaro_winkler_similarity(\\\"surname_l\\\", \\\"surname_r\\\") >= 0.8\", \"comparison_level_label\": \"Jaro_winkler_similarity >= 0.8\", \"comparison_vector_value\": 1, \"comparison_name\": \"surname\", \"comparison_sort_order\": 1}, {\"m_or_u\": \"u\", \"estimated_probability\": 0.9876347504709363, \"estimate_description\": \"estimate u by random sampling\", \"estimated_probability_as_log_odds\": 6.319614340865741, \"sql_condition\": \"ELSE\", \"comparison_level_label\": \"All other comparisons\", \"comparison_vector_value\": 0, \"comparison_name\": \"surname\", \"comparison_sort_order\": 1}, {\"m_or_u\": \"m\", \"estimated_probability\": 0.2345649644291909, \"estimate_description\": \"EM, blocked on: l.\\\"dob\\\" = r.\\\"dob\\\"\", \"estimated_probability_as_log_odds\": -1.7062923950053244, \"sql_condition\": \"ELSE\", \"comparison_level_label\": \"All other comparisons\", \"comparison_vector_value\": 0, \"comparison_name\": \"surname\", \"comparison_sort_order\": 1}, {\"m_or_u\": \"m\", \"estimated_probability\": 0.21481743092968344, \"estimate_description\": \"EM, blocked on: l.\\\"email\\\" = r.\\\"email\\\"\", \"estimated_probability_as_log_odds\": -1.8699170828870317, \"sql_condition\": \"ELSE\", \"comparison_level_label\": \"All other comparisons\", \"comparison_vector_value\": 0, \"comparison_name\": \"surname\", \"comparison_sort_order\": 1}, {\"m_or_u\": \"u\", \"estimated_probability\": 0.0017477477477477479, \"estimate_description\": \"estimate u by random sampling\", \"estimated_probability_as_log_odds\": -9.157763635801777, \"sql_condition\": \"\\\"dob_l\\\" = \\\"dob_r\\\"\", \"comparison_level_label\": \"Exact match\", \"comparison_vector_value\": 5, \"comparison_name\": \"dob\", \"comparison_sort_order\": 2}, {\"m_or_u\": \"m\", \"estimated_probability\": 0.39018943746768847, \"estimate_description\": \"EM, blocked on: (l.\\\"first_name\\\" = r.\\\"first_name\\\") AND (l.\\\"surname\\\" = r.\\\"surname\\\")\", \"estimated_probability_as_log_odds\": -0.6441864151579418, \"sql_condition\": \"\\\"dob_l\\\" = \\\"dob_r\\\"\", \"comparison_level_label\": \"Exact match\", \"comparison_vector_value\": 5, \"comparison_name\": \"dob\", \"comparison_sort_order\": 2}, {\"m_or_u\": \"m\", \"estimated_probability\": 0.42397408726842284, \"estimate_description\": \"EM, blocked on: l.\\\"email\\\" = r.\\\"email\\\"\", \"estimated_probability_as_log_odds\": -0.44215762139610326, \"sql_condition\": \"\\\"dob_l\\\" = \\\"dob_r\\\"\", \"comparison_level_label\": \"Exact match\", \"comparison_vector_value\": 5, \"comparison_name\": \"dob\", \"comparison_sort_order\": 2}, {\"m_or_u\": \"u\", \"estimated_probability\": 0.0016436436436436436, \"estimate_description\": \"estimate u by random sampling\", \"estimated_probability_as_log_odds\": -9.246513513238204, \"sql_condition\": \"damerau_levenshtein(\\\"dob_l\\\", \\\"dob_r\\\") <= 1\", \"comparison_level_label\": \"Damerau_levenshtein <= 1\", \"comparison_vector_value\": 4, \"comparison_name\": \"dob\", \"comparison_sort_order\": 2}, {\"m_or_u\": \"m\", \"estimated_probability\": 0.14890880132846376, \"estimate_description\": \"EM, blocked on: (l.\\\"first_name\\\" = r.\\\"first_name\\\") AND (l.\\\"surname\\\" = r.\\\"surname\\\")\", \"estimated_probability_as_log_odds\": -2.514884704526524, \"sql_condition\": \"damerau_levenshtein(\\\"dob_l\\\", \\\"dob_r\\\") <= 1\", \"comparison_level_label\": \"Damerau_levenshtein <= 1\", \"comparison_vector_value\": 4, \"comparison_name\": \"dob\", \"comparison_sort_order\": 2}, {\"m_or_u\": \"m\", \"estimated_probability\": 0.08421100196732192, \"estimate_description\": \"EM, blocked on: l.\\\"email\\\" = r.\\\"email\\\"\", \"estimated_probability_as_log_odds\": -3.44293459768697, \"sql_condition\": \"damerau_levenshtein(\\\"dob_l\\\", \\\"dob_r\\\") <= 1\", \"comparison_level_label\": \"Damerau_levenshtein <= 1\", \"comparison_vector_value\": 4, \"comparison_name\": \"dob\", \"comparison_sort_order\": 2}, {\"m_or_u\": \"u\", \"estimated_probability\": 0.003833833833833834, \"estimate_description\": \"estimate u by random sampling\", \"estimated_probability_as_log_odds\": -8.021454792836192, \"sql_condition\": \"\\n            abs(date_diff('month',\\n                strptime(\\\"dob_l\\\", '%Y-%m-%d'),\\n                strptime(\\\"dob_r\\\", '%Y-%m-%d'))\\n                ) <= 1\\n        \", \"comparison_level_label\": \"Within 1 month\", \"comparison_vector_value\": 3, \"comparison_name\": \"dob\", \"comparison_sort_order\": 2}, {\"m_or_u\": \"m\", \"estimated_probability\": 0.10638256504586532, \"estimate_description\": \"EM, blocked on: (l.\\\"first_name\\\" = r.\\\"first_name\\\") AND (l.\\\"surname\\\" = r.\\\"surname\\\")\", \"estimated_probability_as_log_odds\": -3.070395605780577, \"sql_condition\": \"\\n            abs(date_diff('month',\\n                strptime(\\\"dob_l\\\", '%Y-%m-%d'),\\n                strptime(\\\"dob_r\\\", '%Y-%m-%d'))\\n                ) <= 1\\n        \", \"comparison_level_label\": \"Within 1 month\", \"comparison_vector_value\": 3, \"comparison_name\": \"dob\", \"comparison_sort_order\": 2}, {\"m_or_u\": \"m\", \"estimated_probability\": 0.12848884857567527, \"estimate_description\": \"EM, blocked on: l.\\\"email\\\" = r.\\\"email\\\"\", \"estimated_probability_as_log_odds\": -2.761875969750088, \"sql_condition\": \"\\n            abs(date_diff('month',\\n                strptime(\\\"dob_l\\\", '%Y-%m-%d'),\\n                strptime(\\\"dob_r\\\", '%Y-%m-%d'))\\n                ) <= 1\\n        \", \"comparison_level_label\": \"Within 1 month\", \"comparison_vector_value\": 3, \"comparison_name\": \"dob\", \"comparison_sort_order\": 2}, {\"m_or_u\": \"u\", \"estimated_probability\": 0.05062662662662663, \"estimate_description\": \"estimate u by random sampling\", \"estimated_probability_as_log_odds\": -4.22900732541095, \"sql_condition\": \"\\n            abs(date_diff('year',\\n                strptime(\\\"dob_l\\\", '%Y-%m-%d'),\\n                strptime(\\\"dob_r\\\", '%Y-%m-%d'))\\n                ) <= 1\\n        \", \"comparison_level_label\": \"Within 1 year\", \"comparison_vector_value\": 2, \"comparison_name\": \"dob\", \"comparison_sort_order\": 2}, {\"m_or_u\": \"m\", \"estimated_probability\": 0.1687380359928162, \"estimate_description\": \"EM, blocked on: (l.\\\"first_name\\\" = r.\\\"first_name\\\") AND (l.\\\"surname\\\" = r.\\\"surname\\\")\", \"estimated_probability_as_log_odds\": -2.3005179851557642, \"sql_condition\": \"\\n            abs(date_diff('year',\\n                strptime(\\\"dob_l\\\", '%Y-%m-%d'),\\n                strptime(\\\"dob_r\\\", '%Y-%m-%d'))\\n                ) <= 1\\n        \", \"comparison_level_label\": \"Within 1 year\", \"comparison_vector_value\": 2, \"comparison_name\": \"dob\", \"comparison_sort_order\": 2}, {\"m_or_u\": \"m\", \"estimated_probability\": 0.16475698702453695, \"estimate_description\": \"EM, blocked on: l.\\\"email\\\" = r.\\\"email\\\"\", \"estimated_probability_as_log_odds\": -2.3418563606607976, \"sql_condition\": \"\\n            abs(date_diff('year',\\n                strptime(\\\"dob_l\\\", '%Y-%m-%d'),\\n                strptime(\\\"dob_r\\\", '%Y-%m-%d'))\\n                ) <= 1\\n        \", \"comparison_level_label\": \"Within 1 year\", \"comparison_vector_value\": 2, \"comparison_name\": \"dob\", \"comparison_sort_order\": 2}, {\"m_or_u\": \"u\", \"estimated_probability\": 0.3037037037037037, \"estimate_description\": \"estimate u by random sampling\", \"estimated_probability_as_log_odds\": -1.1970368470595538, \"sql_condition\": \"\\n            abs(date_diff('year',\\n                strptime(\\\"dob_l\\\", '%Y-%m-%d'),\\n                strptime(\\\"dob_r\\\", '%Y-%m-%d'))\\n                ) <= 10\\n        \", \"comparison_level_label\": \"Within 10 years\", \"comparison_vector_value\": 1, \"comparison_name\": \"dob\", \"comparison_sort_order\": 2}, {\"m_or_u\": \"m\", \"estimated_probability\": 0.1786016866658013, \"estimate_description\": \"EM, blocked on: (l.\\\"first_name\\\" = r.\\\"first_name\\\") AND (l.\\\"surname\\\" = r.\\\"surname\\\")\", \"estimated_probability_as_log_odds\": -2.2013362799351457, \"sql_condition\": \"\\n            abs(date_diff('year',\\n                strptime(\\\"dob_l\\\", '%Y-%m-%d'),\\n                strptime(\\\"dob_r\\\", '%Y-%m-%d'))\\n                ) <= 10\\n        \", \"comparison_level_label\": \"Within 10 years\", \"comparison_vector_value\": 1, \"comparison_name\": \"dob\", \"comparison_sort_order\": 2}, {\"m_or_u\": \"m\", \"estimated_probability\": 0.19707423958474268, \"estimate_description\": \"EM, blocked on: l.\\\"email\\\" = r.\\\"email\\\"\", \"estimated_probability_as_log_odds\": -2.0265273925278406, \"sql_condition\": \"\\n            abs(date_diff('year',\\n                strptime(\\\"dob_l\\\", '%Y-%m-%d'),\\n                strptime(\\\"dob_r\\\", '%Y-%m-%d'))\\n                ) <= 10\\n        \", \"comparison_level_label\": \"Within 10 years\", \"comparison_vector_value\": 1, \"comparison_name\": \"dob\", \"comparison_sort_order\": 2}, {\"m_or_u\": \"u\", \"estimated_probability\": 0.6384444444444445, \"estimate_description\": \"estimate u by random sampling\", \"estimated_probability_as_log_odds\": 0.820343741859996, \"sql_condition\": \"ELSE\", \"comparison_level_label\": \"All other comparisons\", \"comparison_vector_value\": 0, \"comparison_name\": \"dob\", \"comparison_sort_order\": 2}, {\"m_or_u\": \"m\", \"estimated_probability\": 0.007179473499364937, \"estimate_description\": \"EM, blocked on: (l.\\\"first_name\\\" = r.\\\"first_name\\\") AND (l.\\\"surname\\\" = r.\\\"surname\\\")\", \"estimated_probability_as_log_odds\": -7.11151108407549, \"sql_condition\": \"ELSE\", \"comparison_level_label\": \"All other comparisons\", \"comparison_vector_value\": 0, \"comparison_name\": \"dob\", \"comparison_sort_order\": 2}, {\"m_or_u\": \"m\", \"estimated_probability\": 0.0014948355793003385, \"estimate_description\": \"EM, blocked on: l.\\\"email\\\" = r.\\\"email\\\"\", \"estimated_probability_as_log_odds\": -9.383639271783355, \"sql_condition\": \"ELSE\", \"comparison_level_label\": \"All other comparisons\", \"comparison_vector_value\": 0, \"comparison_name\": \"dob\", \"comparison_sort_order\": 2}, {\"m_or_u\": \"u\", \"estimated_probability\": 0.0551475711801453, \"estimate_description\": \"estimate u by random sampling\", \"estimated_probability_as_log_odds\": -4.098719767635731, \"sql_condition\": \"\\\"city_l\\\" = \\\"city_r\\\"\", \"comparison_level_label\": \"Exact match\", \"comparison_vector_value\": 1, \"comparison_name\": \"city\", \"comparison_sort_order\": 3}, {\"m_or_u\": \"m\", \"estimated_probability\": 0.5654210200227882, \"estimate_description\": \"EM, blocked on: (l.\\\"first_name\\\" = r.\\\"first_name\\\") AND (l.\\\"surname\\\" = r.\\\"surname\\\")\", \"estimated_probability_as_log_odds\": 0.37970712270579715, \"sql_condition\": \"\\\"city_l\\\" = \\\"city_r\\\"\", \"comparison_level_label\": \"Exact match\", \"comparison_vector_value\": 1, \"comparison_name\": \"city\", \"comparison_sort_order\": 3}, {\"m_or_u\": \"m\", \"estimated_probability\": 0.555731791517131, \"estimate_description\": \"EM, blocked on: l.\\\"dob\\\" = r.\\\"dob\\\"\", \"estimated_probability_as_log_odds\": 0.32295786749330363, \"sql_condition\": \"\\\"city_l\\\" = \\\"city_r\\\"\", \"comparison_level_label\": \"Exact match\", \"comparison_vector_value\": 1, \"comparison_name\": \"city\", \"comparison_sort_order\": 3}, {\"m_or_u\": \"m\", \"estimated_probability\": 0.6330517927888266, \"estimate_description\": \"EM, blocked on: l.\\\"email\\\" = r.\\\"email\\\"\", \"estimated_probability_as_log_odds\": 0.7867470890922754, \"sql_condition\": \"\\\"city_l\\\" = \\\"city_r\\\"\", \"comparison_level_label\": \"Exact match\", \"comparison_vector_value\": 1, \"comparison_name\": \"city\", \"comparison_sort_order\": 3}, {\"m_or_u\": \"u\", \"estimated_probability\": 0.9448524288198547, \"estimate_description\": \"estimate u by random sampling\", \"estimated_probability_as_log_odds\": 4.09871976763573, \"sql_condition\": \"ELSE\", \"comparison_level_label\": \"All other comparisons\", \"comparison_vector_value\": 0, \"comparison_name\": \"city\", \"comparison_sort_order\": 3}, {\"m_or_u\": \"m\", \"estimated_probability\": 0.4345789799772119, \"estimate_description\": \"EM, blocked on: (l.\\\"first_name\\\" = r.\\\"first_name\\\") AND (l.\\\"surname\\\" = r.\\\"surname\\\")\", \"estimated_probability_as_log_odds\": -0.3797071227057967, \"sql_condition\": \"ELSE\", \"comparison_level_label\": \"All other comparisons\", \"comparison_vector_value\": 0, \"comparison_name\": \"city\", \"comparison_sort_order\": 3}, {\"m_or_u\": \"m\", \"estimated_probability\": 0.4442682084828689, \"estimate_description\": \"EM, blocked on: l.\\\"dob\\\" = r.\\\"dob\\\"\", \"estimated_probability_as_log_odds\": -0.3229578674933042, \"sql_condition\": \"ELSE\", \"comparison_level_label\": \"All other comparisons\", \"comparison_vector_value\": 0, \"comparison_name\": \"city\", \"comparison_sort_order\": 3}, {\"m_or_u\": \"m\", \"estimated_probability\": 0.3669482072111733, \"estimate_description\": \"EM, blocked on: l.\\\"email\\\" = r.\\\"email\\\"\", \"estimated_probability_as_log_odds\": -0.7867470890922756, \"sql_condition\": \"ELSE\", \"comparison_level_label\": \"All other comparisons\", \"comparison_vector_value\": 0, \"comparison_name\": \"city\", \"comparison_sort_order\": 3}, {\"m_or_u\": \"u\", \"estimated_probability\": 0.0021938713143283602, \"estimate_description\": \"estimate u by random sampling\", \"estimated_probability_as_log_odds\": -8.829136816196753, \"sql_condition\": \"\\\"email_l\\\" = \\\"email_r\\\"\", \"comparison_level_label\": \"3. Exact match email\", \"comparison_vector_value\": 3, \"comparison_name\": \"email\", \"comparison_sort_order\": 4}, {\"m_or_u\": \"m\", \"estimated_probability\": 0.5643226365990494, \"estimate_description\": \"EM, blocked on: (l.\\\"first_name\\\" = r.\\\"first_name\\\") AND (l.\\\"surname\\\" = r.\\\"surname\\\")\", \"estimated_probability_as_log_odds\": 0.3732600646488213, \"sql_condition\": \"\\\"email_l\\\" = \\\"email_r\\\"\", \"comparison_level_label\": \"3. Exact match email\", \"comparison_vector_value\": 3, \"comparison_name\": \"email\", \"comparison_sort_order\": 4}, {\"m_or_u\": \"m\", \"estimated_probability\": 0.543541047176803, \"estimate_description\": \"EM, blocked on: l.\\\"dob\\\" = r.\\\"dob\\\"\", \"estimated_probability_as_log_odds\": 0.25190385757005906, \"sql_condition\": \"\\\"email_l\\\" = \\\"email_r\\\"\", \"comparison_level_label\": \"3. Exact match email\", \"comparison_vector_value\": 3, \"comparison_name\": \"email\", \"comparison_sort_order\": 4}, {\"m_or_u\": \"u\", \"estimated_probability\": 0.0010390328952024346, \"estimate_description\": \"estimate u by random sampling\", \"estimated_probability_as_log_odds\": -9.909043167871717, \"sql_condition\": \"\\n        regexp_extract(\\\"email_l\\\", '^[^@]+')\\n     = \\n        regexp_extract(\\\"email_r\\\", '^[^@]+')\\n    \", \"comparison_level_label\": \"2. Exact match email\", \"comparison_vector_value\": 2, \"comparison_name\": \"email\", \"comparison_sort_order\": 4}, {\"m_or_u\": \"m\", \"estimated_probability\": 0.2188443140416032, \"estimate_description\": \"EM, blocked on: (l.\\\"first_name\\\" = r.\\\"first_name\\\") AND (l.\\\"surname\\\" = r.\\\"surname\\\")\", \"estimated_probability_as_log_odds\": -1.8357052084352394, \"sql_condition\": \"\\n        regexp_extract(\\\"email_l\\\", '^[^@]+')\\n     = \\n        regexp_extract(\\\"email_r\\\", '^[^@]+')\\n    \", \"comparison_level_label\": \"2. Exact match email\", \"comparison_vector_value\": 2, \"comparison_name\": \"email\", \"comparison_sort_order\": 4}, {\"m_or_u\": \"m\", \"estimated_probability\": 0.223484823621859, \"estimate_description\": \"EM, blocked on: l.\\\"dob\\\" = r.\\\"dob\\\"\", \"estimated_probability_as_log_odds\": -1.7968372568385633, \"sql_condition\": \"\\n        regexp_extract(\\\"email_l\\\", '^[^@]+')\\n     = \\n        regexp_extract(\\\"email_r\\\", '^[^@]+')\\n    \", \"comparison_level_label\": \"2. Exact match email\", \"comparison_vector_value\": 2, \"comparison_name\": \"email\", \"comparison_sort_order\": 4}, {\"m_or_u\": \"u\", \"estimated_probability\": 0.0009135769109519858, \"estimate_description\": \"estimate u by random sampling\", \"estimated_probability_as_log_odds\": -10.094867574666251, \"sql_condition\": \"jaro_winkler_similarity(\\\"email_l\\\", \\\"email_r\\\") >= 0.88\", \"comparison_level_label\": \"1. Jaro_winkler_similarity email >= 0.88\", \"comparison_vector_value\": 1, \"comparison_name\": \"email\", \"comparison_sort_order\": 4}, {\"m_or_u\": \"m\", \"estimated_probability\": 0.19579946440379836, \"estimate_description\": \"EM, blocked on: (l.\\\"first_name\\\" = r.\\\"first_name\\\") AND (l.\\\"surname\\\" = r.\\\"surname\\\")\", \"estimated_probability_as_log_odds\": -2.038178478418833, \"sql_condition\": \"jaro_winkler_similarity(\\\"email_l\\\", \\\"email_r\\\") >= 0.88\", \"comparison_level_label\": \"1. Jaro_winkler_similarity email >= 0.88\", \"comparison_vector_value\": 1, \"comparison_name\": \"email\", \"comparison_sort_order\": 4}, {\"m_or_u\": \"m\", \"estimated_probability\": 0.23297355102980435, \"estimate_description\": \"EM, blocked on: l.\\\"dob\\\" = r.\\\"dob\\\"\", \"estimated_probability_as_log_odds\": -1.7191101480714766, \"sql_condition\": \"jaro_winkler_similarity(\\\"email_l\\\", \\\"email_r\\\") >= 0.88\", \"comparison_level_label\": \"1. Jaro_winkler_similarity email >= 0.88\", \"comparison_vector_value\": 1, \"comparison_name\": \"email\", \"comparison_sort_order\": 4}, {\"m_or_u\": \"u\", \"estimated_probability\": 0.9958535188795172, \"estimate_description\": \"estimate u by random sampling\", \"estimated_probability_as_log_odds\": 7.907902216619062, \"sql_condition\": \"ELSE\", \"comparison_level_label\": \"0. All other comparisons\", \"comparison_vector_value\": 0, \"comparison_name\": \"email\", \"comparison_sort_order\": 4}, {\"m_or_u\": \"m\", \"estimated_probability\": 0.021033584955548985, \"estimate_description\": \"EM, blocked on: (l.\\\"first_name\\\" = r.\\\"first_name\\\") AND (l.\\\"surname\\\" = r.\\\"surname\\\")\", \"estimated_probability_as_log_odds\": -5.540492698307687, \"sql_condition\": \"ELSE\", \"comparison_level_label\": \"0. All other comparisons\", \"comparison_vector_value\": 0, \"comparison_name\": \"email\", \"comparison_sort_order\": 4}, {\"m_or_u\": \"m\", \"estimated_probability\": 5.78171533669566e-07, \"estimate_description\": \"EM, blocked on: l.\\\"dob\\\" = r.\\\"dob\\\"\", \"estimated_probability_as_log_odds\": -20.721998250750083, \"sql_condition\": \"ELSE\", \"comparison_level_label\": \"0. All other comparisons\", \"comparison_vector_value\": 0, \"comparison_name\": \"email\", \"comparison_sort_order\": 4}]}}, {\"mode\": \"vega-lite\"});\n",
       "</script>"
      ],
      "text/plain": [
       "alt.Chart(...)"
      ]
     },
     "execution_count": 3,
     "metadata": {},
     "output_type": "execute_result"
    }
   ],
   "source": [
    "from splink.duckdb.linker import DuckDBLinker\n",
    "import splink.duckdb.comparison_library as cl\n",
    "import splink.duckdb.comparison_template_library as ctl\n",
    "import splink.duckdb.blocking_rule_library as brl\n",
    "from splink.datasets import splink_datasets\n",
    "import logging, sys\n",
    "logging.disable(sys.maxsize)\n",
    "\n",
    "df = splink_datasets.fake_1000\n",
    "\n",
    "settings = {\n",
    "    \"link_type\": \"dedupe_only\",\n",
    "    \"blocking_rules_to_generate_predictions\": [\n",
    "        brl.exact_match_rule(\"first_name\"),\n",
    "        brl.exact_match_rule(\"surname\"),\n",
    "    ],\n",
    "    \"comparisons\": [\n",
    "        ctl.name_comparison(\"first_name\"),\n",
    "        ctl.name_comparison(\"surname\"),\n",
    "        ctl.date_comparison(\"dob\", cast_strings_to_date=True),\n",
    "        cl.exact_match(\"city\", term_frequency_adjustments=True),\n",
    "        ctl.email_comparison(\"email\", include_username_fuzzy_level=False),\n",
    "    ],\n",
    "}\n",
    "\n",
    "linker = DuckDBLinker(df, settings)\n",
    "linker.estimate_u_using_random_sampling(max_pairs=1e6)\n",
    "\n",
    "blocking_rule_for_training = brl.and_(\n",
    "                            brl.exact_match_rule(\"first_name\"), \n",
    "                            brl.exact_match_rule(\"surname\")\n",
    "                            )\n",
    "\n",
    "linker.estimate_parameters_using_expectation_maximisation(blocking_rule_for_training)\n",
    "\n",
    "blocking_rule_for_training = brl.exact_match_rule(\"dob\")\n",
    "linker.estimate_parameters_using_expectation_maximisation(blocking_rule_for_training)\n",
    "\n",
    "blocking_rule_for_training = brl.exact_match_rule(\"email\")\n",
    "linker.estimate_parameters_using_expectation_maximisation(blocking_rule_for_training)\n",
    "\n",
    "\n",
    "linker.parameter_estimate_comparisons_chart()"
   ]
  },
  {
   "attachments": {},
   "cell_type": "markdown",
   "metadata": {},
   "source": [
    "### What the chart shows\n"
   ]
  },
  {
   "attachments": {},
   "cell_type": "markdown",
   "metadata": {},
   "source": [
    "### How to interpret the chart\n"
   ]
  },
  {
   "attachments": {},
   "cell_type": "markdown",
   "metadata": {},
   "source": [
    "### Actions to take as a result of the chart\n",
    "\n"
   ]
  }
 ],
 "metadata": {
  "kernelspec": {
   "display_name": "base",
   "language": "python",
   "name": "python3"
  },
  "language_info": {
   "codemirror_mode": {
    "name": "ipython",
    "version": 3
   },
   "file_extension": ".py",
   "mimetype": "text/x-python",
   "name": "python",
   "nbconvert_exporter": "python",
   "pygments_lexer": "ipython3",
   "version": "3.9.12"
  },
  "orig_nbformat": 4
 },
 "nbformat": 4,
 "nbformat_minor": 2
}
