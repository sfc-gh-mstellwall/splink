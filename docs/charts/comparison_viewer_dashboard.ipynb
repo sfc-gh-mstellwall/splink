{
 "cells": [
  {
   "attachments": {},
   "cell_type": "markdown",
   "metadata": {},
   "source": [
    "!!! warning \"Work in Progress\"\n",
    "    This page is currently under construction. \n",
    "\n",
    "# `comparison_viewer_dashboard`\n",
    "\n",
    "!!! info \"At a glance\"\n",
    "    **Useful for:** \n",
    "\n",
    "    **API Documentation:** [comparison_viewer_dashboard()](../linker.md#splink.linker.Linker.comparison_viewer_dashboard)\n",
    "\n",
    "    **What is needed to generate the chart?** "
   ]
  },
  {
   "attachments": {},
   "cell_type": "markdown",
   "metadata": {},
   "source": [
    "## Worked Example"
   ]
  },
  {
   "cell_type": "code",
   "execution_count": 2,
   "metadata": {},
   "outputs": [
    {
     "name": "stderr",
     "output_type": "stream",
     "text": [
      "/var/folders/jz/_2g97r392fd0g70n5qg_p4180000gn/T/ipykernel_19007/3590761493.py:14: DeprecationWarning: `exact_match_rule` is deprecated; use `block_on`\n",
      "  brl.exact_match_rule(\"first_name\"),\n",
      "/var/folders/jz/_2g97r392fd0g70n5qg_p4180000gn/T/ipykernel_19007/3590761493.py:15: DeprecationWarning: `exact_match_rule` is deprecated; use `block_on`\n",
      "  brl.exact_match_rule(\"surname\"),\n"
     ]
    },
    {
     "data": {
      "application/vnd.jupyter.widget-view+json": {
       "model_id": "5e1dd5dbbb0c41988cdb2b08160653f3",
       "version_major": 2,
       "version_minor": 0
      },
      "text/plain": [
       "FloatProgress(value=0.0, layout=Layout(width='auto'), style=ProgressStyle(bar_color='black'))"
      ]
     },
     "metadata": {},
     "output_type": "display_data"
    },
    {
     "name": "stderr",
     "output_type": "stream",
     "text": [
      "/var/folders/jz/_2g97r392fd0g70n5qg_p4180000gn/T/ipykernel_19007/3590761493.py:32: DeprecationWarning: `exact_match_rule` is deprecated; use `block_on`\n",
      "  brl.exact_match_rule(\"first_name\"),\n",
      "/var/folders/jz/_2g97r392fd0g70n5qg_p4180000gn/T/ipykernel_19007/3590761493.py:33: DeprecationWarning: `exact_match_rule` is deprecated; use `block_on`\n",
      "  brl.exact_match_rule(\"surname\")\n",
      "/var/folders/jz/_2g97r392fd0g70n5qg_p4180000gn/T/ipykernel_19007/3590761493.py:38: DeprecationWarning: `exact_match_rule` is deprecated; use `block_on`\n",
      "  blocking_rule_for_training = brl.exact_match_rule(\"dob\")\n"
     ]
    },
    {
     "data": {
      "text/html": [
       "\n",
       "        <iframe\n",
       "            width=\"100%\"\n",
       "            height=\"1200\"\n",
       "            src=\"./img/scv.html\"\n",
       "            frameborder=\"0\"\n",
       "            allowfullscreen\n",
       "            \n",
       "        ></iframe>\n",
       "        "
      ],
      "text/plain": [
       "<IPython.lib.display.IFrame at 0x7f79f5e81910>"
      ]
     },
     "execution_count": 2,
     "metadata": {},
     "output_type": "execute_result"
    }
   ],
   "source": [
    "from splink.duckdb.linker import DuckDBLinker\n",
    "import splink.duckdb.comparison_library as cl\n",
    "import splink.duckdb.comparison_template_library as ctl\n",
    "import splink.duckdb.blocking_rule_library as brl\n",
    "from splink.datasets import splink_datasets\n",
    "import logging, sys\n",
    "logging.disable(sys.maxsize)\n",
    "\n",
    "df = splink_datasets.fake_1000\n",
    "\n",
    "settings = {\n",
    "    \"link_type\": \"dedupe_only\",\n",
    "    \"blocking_rules_to_generate_predictions\": [\n",
    "        brl.exact_match_rule(\"first_name\"),\n",
    "        brl.exact_match_rule(\"surname\"),\n",
    "    ],\n",
    "    \"comparisons\": [\n",
    "        ctl.name_comparison(\"first_name\"),\n",
    "        ctl.name_comparison(\"surname\"),\n",
    "        ctl.date_comparison(\"dob\", cast_strings_to_date=True),\n",
    "        cl.exact_match(\"city\", term_frequency_adjustments=True),\n",
    "        ctl.email_comparison(\"email\", include_username_fuzzy_level=False),\n",
    "    ],\n",
    "    \"retain_intermediate_calculation_columns\": True,\n",
    "    \"retain_matching_columns\":True,\n",
    "}\n",
    "\n",
    "linker = DuckDBLinker(df, settings)\n",
    "linker.estimate_u_using_random_sampling(max_pairs=1e6)\n",
    "\n",
    "blocking_rule_for_training = brl.and_(\n",
    "                            brl.exact_match_rule(\"first_name\"), \n",
    "                            brl.exact_match_rule(\"surname\")\n",
    "                            )\n",
    "\n",
    "linker.estimate_parameters_using_expectation_maximisation(blocking_rule_for_training)\n",
    "\n",
    "blocking_rule_for_training = brl.exact_match_rule(\"dob\")\n",
    "linker.estimate_parameters_using_expectation_maximisation(blocking_rule_for_training)\n",
    "\n",
    "df_predictions = linker.predict(threshold_match_probability=0.2)\n",
    "\n",
    "linker.comparison_viewer_dashboard(df_predictions, \"img/scv.html\", overwrite=True)\n",
    "\n",
    "# You can view the scv.html file in your browser, or inline in a notbook as follows\n",
    "from IPython.display import IFrame\n",
    "IFrame(\n",
    "    src=\"./img/scv.html\", width=\"100%\", height=1200\n",
    ")  \n"
   ]
  },
  {
   "attachments": {},
   "cell_type": "markdown",
   "metadata": {},
   "source": [
    "### What the chart shows\n"
   ]
  },
  {
   "attachments": {},
   "cell_type": "markdown",
   "metadata": {},
   "source": [
    "### How to interpret the chart\n"
   ]
  },
  {
   "attachments": {},
   "cell_type": "markdown",
   "metadata": {},
   "source": [
    "### Actions to take as a result of the chart\n",
    "\n"
   ]
  }
 ],
 "metadata": {
  "kernelspec": {
   "display_name": "base",
   "language": "python",
   "name": "python3"
  },
  "language_info": {
   "codemirror_mode": {
    "name": "ipython",
    "version": 3
   },
   "file_extension": ".py",
   "mimetype": "text/x-python",
   "name": "python",
   "nbconvert_exporter": "python",
   "pygments_lexer": "ipython3",
   "version": "3.9.12"
  },
  "orig_nbformat": 4
 },
 "nbformat": 4,
 "nbformat_minor": 2
}
